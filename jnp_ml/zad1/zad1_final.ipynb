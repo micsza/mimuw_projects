{
 "cells": [
  {
   "cell_type": "code",
   "execution_count": 109,
   "metadata": {},
   "outputs": [],
   "source": [
    "import numpy as np\n",
    "import pandas as pd\n",
    "import matplotlib.pyplot as plt\n",
    "import seaborn as sns\n",
    "%matplotlib inline\n",
    "\n",
    "from sklearn.ensemble import RandomForestClassifier, GradientBoostingClassifier\n",
    "from sklearn import metrics\n",
    "from sklearn.metrics import accuracy_score, roc_auc_score\n",
    "import xgboost as xgb\n",
    "import imblearn\n",
    "import sklearn\n",
    "from imblearn.under_sampling import RandomUnderSampler\n",
    "from imblearn.over_sampling import SMOTE\n",
    "from sklearn.decomposition import PCA\n",
    "from sklearn.model_selection import KFold\n",
    "from sklearn.model_selection import train_test_split\n",
    "from imblearn.combine import SMOTETomek\n",
    "from sklearn.feature_selection import SelectFromModel\n",
    "from sklearn.ensemble import ExtraTreesClassifier\n",
    "from sklearn.svm import LinearSVC\n",
    "from xgboost import plot_importance\n",
    "from sklearn.svm import SVC\n",
    "import tensorflow as tf\n",
    "from tensorflow import keras\n",
    "from tensorflow.keras import layers"
   ]
  },
  {
   "cell_type": "markdown",
   "metadata": {},
   "source": [
    "# Get Data"
   ]
  },
  {
   "cell_type": "code",
   "execution_count": 110,
   "metadata": {},
   "outputs": [
    {
     "name": "stderr",
     "output_type": "stream",
     "text": [
      "/usr/lib/python2.7/site-packages/ipykernel_launcher.py:7: SettingWithCopyWarning: \n",
      "A value is trying to be set on a copy of a slice from a DataFrame.\n",
      "Try using .loc[row_indexer,col_indexer] = value instead\n",
      "\n",
      "See the caveats in the documentation: http://pandas.pydata.org/pandas-docs/stable/indexing.html#indexing-view-versus-copy\n",
      "  import sys\n"
     ]
    }
   ],
   "source": [
    "# read data\n",
    "df = pd.read_csv(\"Assignment_1__bank-classification.csv\")\n",
    "# separate train and test set\n",
    "df_train = df[df['y'] != 'unknown']\n",
    "df_test = df[df['y'] == 'unknown']\n",
    "# change train['y'] into numerical\n",
    "df_train['y'] = df_train['y'].map({'no': 0, 'yes': 1})\n",
    "combine = [df_train, df_test]"
   ]
  },
  {
   "cell_type": "markdown",
   "metadata": {},
   "source": [
    "# Prelims"
   ]
  },
  {
   "cell_type": "code",
   "execution_count": 111,
   "metadata": {},
   "outputs": [
    {
     "data": {
      "text/html": [
       "<div>\n",
       "<style scoped>\n",
       "    .dataframe tbody tr th:only-of-type {\n",
       "        vertical-align: middle;\n",
       "    }\n",
       "\n",
       "    .dataframe tbody tr th {\n",
       "        vertical-align: top;\n",
       "    }\n",
       "\n",
       "    .dataframe thead th {\n",
       "        text-align: right;\n",
       "    }\n",
       "</style>\n",
       "<table border=\"1\" class=\"dataframe\">\n",
       "  <thead>\n",
       "    <tr style=\"text-align: right;\">\n",
       "      <th></th>\n",
       "      <th>id</th>\n",
       "      <th>birth_date</th>\n",
       "      <th>job</th>\n",
       "      <th>marital</th>\n",
       "      <th>education</th>\n",
       "      <th>default</th>\n",
       "      <th>housing</th>\n",
       "      <th>loan</th>\n",
       "      <th>contact_date</th>\n",
       "      <th>contact</th>\n",
       "      <th>campaign</th>\n",
       "      <th>pdays</th>\n",
       "      <th>previous</th>\n",
       "      <th>poutcome</th>\n",
       "      <th>y</th>\n",
       "    </tr>\n",
       "  </thead>\n",
       "  <tbody>\n",
       "    <tr>\n",
       "      <th>0</th>\n",
       "      <td>1</td>\n",
       "      <td>1952-03-23</td>\n",
       "      <td>housemaid</td>\n",
       "      <td>married</td>\n",
       "      <td>basic.4y</td>\n",
       "      <td>no</td>\n",
       "      <td>no</td>\n",
       "      <td>no</td>\n",
       "      <td>2008-05-12</td>\n",
       "      <td>telephone</td>\n",
       "      <td>1</td>\n",
       "      <td>999</td>\n",
       "      <td>0</td>\n",
       "      <td>nonexistent</td>\n",
       "      <td>no</td>\n",
       "    </tr>\n",
       "    <tr>\n",
       "      <th>1</th>\n",
       "      <td>2</td>\n",
       "      <td>1951-03-24</td>\n",
       "      <td>services</td>\n",
       "      <td>married</td>\n",
       "      <td>high.school</td>\n",
       "      <td>unknown</td>\n",
       "      <td>no</td>\n",
       "      <td>no</td>\n",
       "      <td>2008-05-26</td>\n",
       "      <td>telephone</td>\n",
       "      <td>1</td>\n",
       "      <td>999</td>\n",
       "      <td>0</td>\n",
       "      <td>nonexistent</td>\n",
       "      <td>unknown</td>\n",
       "    </tr>\n",
       "    <tr>\n",
       "      <th>2</th>\n",
       "      <td>3</td>\n",
       "      <td>1971-05-19</td>\n",
       "      <td>services</td>\n",
       "      <td>married</td>\n",
       "      <td>high.school</td>\n",
       "      <td>no</td>\n",
       "      <td>yes</td>\n",
       "      <td>no</td>\n",
       "      <td>2008-05-05</td>\n",
       "      <td>telephone</td>\n",
       "      <td>1</td>\n",
       "      <td>999</td>\n",
       "      <td>0</td>\n",
       "      <td>nonexistent</td>\n",
       "      <td>no</td>\n",
       "    </tr>\n",
       "    <tr>\n",
       "      <th>3</th>\n",
       "      <td>4</td>\n",
       "      <td>1968-01-24</td>\n",
       "      <td>admin.</td>\n",
       "      <td>married</td>\n",
       "      <td>basic.6y</td>\n",
       "      <td>no</td>\n",
       "      <td>no</td>\n",
       "      <td>no</td>\n",
       "      <td>2008-05-19</td>\n",
       "      <td>telephone</td>\n",
       "      <td>1</td>\n",
       "      <td>999</td>\n",
       "      <td>0</td>\n",
       "      <td>nonexistent</td>\n",
       "      <td>unknown</td>\n",
       "    </tr>\n",
       "    <tr>\n",
       "      <th>4</th>\n",
       "      <td>5</td>\n",
       "      <td>1952-05-11</td>\n",
       "      <td>services</td>\n",
       "      <td>married</td>\n",
       "      <td>high.school</td>\n",
       "      <td>no</td>\n",
       "      <td>no</td>\n",
       "      <td>yes</td>\n",
       "      <td>2008-05-19</td>\n",
       "      <td>telephone</td>\n",
       "      <td>1</td>\n",
       "      <td>999</td>\n",
       "      <td>0</td>\n",
       "      <td>nonexistent</td>\n",
       "      <td>unknown</td>\n",
       "    </tr>\n",
       "  </tbody>\n",
       "</table>\n",
       "</div>"
      ],
      "text/plain": [
       "   id  birth_date        job  marital    education  default housing loan  \\\n",
       "0   1  1952-03-23  housemaid  married     basic.4y       no      no   no   \n",
       "1   2  1951-03-24   services  married  high.school  unknown      no   no   \n",
       "2   3  1971-05-19   services  married  high.school       no     yes   no   \n",
       "3   4  1968-01-24     admin.  married     basic.6y       no      no   no   \n",
       "4   5  1952-05-11   services  married  high.school       no      no  yes   \n",
       "\n",
       "  contact_date    contact  campaign  pdays  previous     poutcome        y  \n",
       "0   2008-05-12  telephone         1    999         0  nonexistent       no  \n",
       "1   2008-05-26  telephone         1    999         0  nonexistent  unknown  \n",
       "2   2008-05-05  telephone         1    999         0  nonexistent       no  \n",
       "3   2008-05-19  telephone         1    999         0  nonexistent  unknown  \n",
       "4   2008-05-19  telephone         1    999         0  nonexistent  unknown  "
      ]
     },
     "execution_count": 111,
     "metadata": {},
     "output_type": "execute_result"
    }
   ],
   "source": [
    "df.head()"
   ]
  },
  {
   "cell_type": "code",
   "execution_count": 112,
   "metadata": {},
   "outputs": [
    {
     "name": "stdout",
     "output_type": "stream",
     "text": [
      "train set shape = (20799, 15), test set shape = (20389, 15)\n"
     ]
    },
    {
     "data": {
      "text/plain": [
       "y               0\n",
       "poutcome        0\n",
       "previous        0\n",
       "pdays           0\n",
       "campaign        0\n",
       "contact         0\n",
       "contact_date    0\n",
       "loan            0\n",
       "housing         0\n",
       "default         0\n",
       "education       0\n",
       "marital         0\n",
       "job             0\n",
       "birth_date      0\n",
       "id              0\n",
       "dtype: int64"
      ]
     },
     "execution_count": 112,
     "metadata": {},
     "output_type": "execute_result"
    }
   ],
   "source": [
    "# check shapes\n",
    "print(\"train set shape = {}, test set shape = {}\".format(df_train.shape, df_test.shape))\n",
    "# check nulls\n",
    "df.isnull().sum().sort_values(ascending=False)"
   ]
  },
  {
   "cell_type": "markdown",
   "metadata": {},
   "source": [
    "#### Remarks:\n",
    "* Dataset was collected from Portuguese retail bank from May 2008 to June 2013.\n",
    "* There is no explicitly missing values in the set. All missing values are marked specifically for a feature, like 'nonexistent' or '999' or other.\n",
    "* Lots of categorical data.\n",
    "* Train and test sets are approx of equal size."
   ]
  },
  {
   "cell_type": "markdown",
   "metadata": {},
   "source": [
    "### Task description\n",
    "#### Goal formulation\n",
    "Our goal is to predict whether the client will subscribe a term deposit. This is a classification problem. Out target feature is 'y'. We are supposed to deliver the probabilities of deposit subscription so as to minimize AUC metric.\n",
    "##### Train and test sets\n",
    "Both train and test sets seem to be blended together. We are supposed to deliver predictions for the rows with target marked 'unknown'. All other rows form our train set."
   ]
  },
  {
   "cell_type": "markdown",
   "metadata": {},
   "source": [
    "### Domain knowledge\n",
    "We want to predict if a person will make a term deposit. Basic question then is what factors may drive such decision. Theoretically, the following factors play the roles:\n",
    "* __net cash available__: if I don't have any cash surplus, then I cannot make a depo at all\n",
    "* __liquidity needs__: this is term deposit, so such decision frozens my cash for a while\n",
    "* __income pattern__: I need to consider the expected cash flows within term depo time span to make a call\n",
    "* __interest rate offered__ and __best market interest rate available__: the ultimate reward for postponing consumption, how good this offer is vs my alternative costs or relative to other banks offer\n",
    "* all other __behavioral patterns__: do I even know what term deposit is? do I even care to have savings? how sophisticated is my analysis when making financial decisions? etc\n",
    "\n",
    "Quick look at out feature set reveals that we lack any market-related data. The interest rate is one of the most crucial factor determining customers propensity to subscribe a depo. This may significantly hinder our prediction task."
   ]
  },
  {
   "cell_type": "markdown",
   "metadata": {},
   "source": [
    "### AUC metric"
   ]
  },
  {
   "cell_type": "markdown",
   "metadata": {},
   "source": [
    "Puting:\n",
    "$$ TPR(\\tau) =  \\frac{TP(\\tau)}{N_{+}} \\quad FPR(\\tau) = \\frac{FP(\\tau)}{N_{-}}$$\n",
    "\n",
    "where $\\tau$ is a threshold in our decision rule $[f(x) > \\tau]$. \n",
    "\n",
    "For some set $T$ we can plot $ TPR(\\tau) $ vs $ FPR(\\tau) $ for each $\\tau \\in T$. The area under this curve is AUC metric: the higher the better, min is 0, max is 1, for pure random AUC should ba approx. 0.5."
   ]
  },
  {
   "cell_type": "code",
   "execution_count": null,
   "metadata": {},
   "outputs": [],
   "source": []
  },
  {
   "cell_type": "markdown",
   "metadata": {},
   "source": [
    "# First look at data\n",
    "We now make a first inspection at the available data. We do not engineer them at this moment - all we want to do is to take a closer look to get more familiar with them, craft some intuition and draw some initial hints. But the feature engineering will be done after we complete this initial look iterations over all features."
   ]
  },
  {
   "cell_type": "code",
   "execution_count": 113,
   "metadata": {
    "scrolled": true
   },
   "outputs": [
    {
     "name": "stdout",
     "output_type": "stream",
     "text": [
      "<class 'pandas.core.frame.DataFrame'>\n",
      "RangeIndex: 41188 entries, 0 to 41187\n",
      "Data columns (total 15 columns):\n",
      "id              41188 non-null int64\n",
      "birth_date      41188 non-null object\n",
      "job             41188 non-null object\n",
      "marital         41188 non-null object\n",
      "education       41188 non-null object\n",
      "default         41188 non-null object\n",
      "housing         41188 non-null object\n",
      "loan            41188 non-null object\n",
      "contact_date    41188 non-null object\n",
      "contact         41188 non-null object\n",
      "campaign        41188 non-null int64\n",
      "pdays           41188 non-null int64\n",
      "previous        41188 non-null int64\n",
      "poutcome        41188 non-null object\n",
      "y               41188 non-null object\n",
      "dtypes: int64(4), object(11)\n",
      "memory usage: 4.7+ MB\n"
     ]
    }
   ],
   "source": [
    "df.info()"
   ]
  },
  {
   "cell_type": "code",
   "execution_count": 114,
   "metadata": {},
   "outputs": [
    {
     "data": {
      "text/plain": [
       "<matplotlib.axes._subplots.AxesSubplot at 0x7fbac40d9c90>"
      ]
     },
     "execution_count": 114,
     "metadata": {},
     "output_type": "execute_result"
    },
    {
     "data": {
      "image/png": "[encoded data removed]",
      "text/plain": [
       "<matplotlib.figure.Figure at 0x7fbac4002410>"
      ]
     },
     "metadata": {
      "needs_background": "light"
     },
     "output_type": "display_data"
    }
   ],
   "source": [
    "sns.heatmap(df_train.corr())"
   ]
  },
  {
   "cell_type": "code",
   "execution_count": 115,
   "metadata": {
    "scrolled": true
   },
   "outputs": [
    {
     "data": {
      "text/plain": [
       "<seaborn.axisgrid.PairGrid at 0x7fbac3f167d0>"
      ]
     },
     "execution_count": 115,
     "metadata": {},
     "output_type": "execute_result"
    },
    {
     "data": {
      "image/png": "[encoded data removed]",
      "text/plain": [
       "<matplotlib.figure.Figure at 0x7fbac5c77a10>"
      ]
     },
     "metadata": {
      "needs_background": "light"
     },
     "output_type": "display_data"
    }
   ],
   "source": [
    "sns.pairplot(df_train,diag_kind='hist')"
   ]
  },
  {
   "cell_type": "markdown",
   "metadata": {},
   "source": [
    "#### Remarks: \n",
    "* pair plot not especially helpful"
   ]
  },
  {
   "cell_type": "markdown",
   "metadata": {},
   "source": [
    "### Target"
   ]
  },
  {
   "cell_type": "code",
   "execution_count": 116,
   "metadata": {},
   "outputs": [
    {
     "data": {
      "text/plain": [
       "unknown    20389\n",
       "no         18419\n",
       "yes         2380\n",
       "Name: y, dtype: int64"
      ]
     },
     "execution_count": 116,
     "metadata": {},
     "output_type": "execute_result"
    }
   ],
   "source": [
    "# check target\n",
    "df['y'].value_counts()"
   ]
  },
  {
   "cell_type": "code",
   "execution_count": 117,
   "metadata": {},
   "outputs": [
    {
     "data": {
      "text/plain": [
       "Text(0.5,1,u'Distribution of \"y\"')"
      ]
     },
     "execution_count": 117,
     "metadata": {},
     "output_type": "execute_result"
    },
    {
     "data": {
      "image/png": "[encoded data removed]",
      "text/plain": [
       "<matplotlib.figure.Figure at 0x7fbac3e39390>"
      ]
     },
     "metadata": {},
     "output_type": "display_data"
    }
   ],
   "source": [
    "# \"yes\" vs \"no\" in training set\n",
    "plt.pie([pd.value_counts(df_train['y'])[0], pd.value_counts(df_train['y'])[1]], \n",
    "        labels=[\"y=No\", \"y=Yes\"], \n",
    "        startangle=90, \n",
    "        shadow=True, \n",
    "        explode=(0,0.1),\n",
    "        autopct='%1.1f%%')\n",
    "plt.title('Distribution of \"y\"')"
   ]
  },
  {
   "cell_type": "code",
   "execution_count": null,
   "metadata": {},
   "outputs": [],
   "source": []
  },
  {
   "cell_type": "markdown",
   "metadata": {},
   "source": [
    "#### Remarks:\n",
    "* training set is highly imbalanced wrt target variable: this is problematic, esp that we want to do well on AUC."
   ]
  },
  {
   "cell_type": "markdown",
   "metadata": {},
   "source": [
    "### Birth date"
   ]
  },
  {
   "cell_type": "code",
   "execution_count": 118,
   "metadata": {},
   "outputs": [
    {
     "name": "stdout",
     "output_type": "stream",
     "text": [
      "The type of birth date is <type 'str'>\n",
      "Date points span from 1912-01-17  to  1993-03-06\n"
     ]
    }
   ],
   "source": [
    "print \"The type of birth date is\", type(df['birth_date'][0]) \n",
    "print \"Date points span from\", min(df['birth_date']), \" to \", max(df['birth_date'])"
   ]
  },
  {
   "cell_type": "markdown",
   "metadata": {},
   "source": [
    "#### Remarks:\n",
    "Exact birth dates seem not to be ideal representation. We may want to convert them into _age_. _Age_ seems to be an important factor for our target as it clearly determines the customer propensity to subscribing a deposit via both net weath (typically the older have more time to accumulate wealth) and behavioral patterns (which differ along the lifetime). Moreover, we may want to convert age into age bands."
   ]
  },
  {
   "cell_type": "markdown",
   "metadata": {},
   "source": [
    "### Job\n",
    "\n",
    "In theory, this should be an important categorical feature determining income as well some behavioral finance patterns and we may want to convert it using one-hot encoding. There are 330 examples with 'unknown' jobs across all data "
   ]
  },
  {
   "cell_type": "code",
   "execution_count": 119,
   "metadata": {},
   "outputs": [
    {
     "data": {
      "text/plain": [
       "<matplotlib.axes._subplots.AxesSubplot at 0x7fbac33d4910>"
      ]
     },
     "execution_count": 119,
     "metadata": {},
     "output_type": "execute_result"
    },
    {
     "data": {
      "image/png": "[encoded data removed]",
      "text/plain": [
       "<matplotlib.figure.Figure at 0x7fbac3eac2d0>"
      ]
     },
     "metadata": {
      "needs_background": "light"
     },
     "output_type": "display_data"
    }
   ],
   "source": [
    "#Relative values\n",
    "cross = pd.crosstab(df_train['job'], df_train['y'])\n",
    "cross = cross.div(cross.sum(1).astype(float), axis=0)\n",
    "cross.plot(kind='bar', stacked=True,grid=False)"
   ]
  },
  {
   "cell_type": "code",
   "execution_count": null,
   "metadata": {},
   "outputs": [],
   "source": []
  },
  {
   "cell_type": "code",
   "execution_count": null,
   "metadata": {},
   "outputs": [],
   "source": []
  },
  {
   "cell_type": "markdown",
   "metadata": {},
   "source": [
    "#### Remarks:\n",
    "* We have around 1% missing job data in both sets (sligthly more in train set, and slightly less in test set). This is rather small fraction \n",
    "* Retired people and students are relatively more keen to submit a depo ... bit surprising."
   ]
  },
  {
   "cell_type": "markdown",
   "metadata": {},
   "source": [
    "### Marital status\n",
    "\n",
    "Marital status seems also to be important feature as it may give some insight into stability, risk aversion and other."
   ]
  },
  {
   "cell_type": "code",
   "execution_count": 120,
   "metadata": {
    "scrolled": false
   },
   "outputs": [
    {
     "data": {
      "text/plain": [
       "married     24928\n",
       "single      11568\n",
       "divorced     4612\n",
       "unknown        80\n",
       "Name: marital, dtype: int64"
      ]
     },
     "execution_count": 120,
     "metadata": {},
     "output_type": "execute_result"
    }
   ],
   "source": [
    "df['marital'].value_counts()"
   ]
  },
  {
   "cell_type": "code",
   "execution_count": null,
   "metadata": {},
   "outputs": [],
   "source": []
  },
  {
   "cell_type": "code",
   "execution_count": 121,
   "metadata": {},
   "outputs": [
    {
     "data": {
      "text/plain": [
       "married     12512\n",
       "single       5896\n",
       "divorced     2347\n",
       "unknown        44\n",
       "Name: marital, dtype: int64"
      ]
     },
     "execution_count": 121,
     "metadata": {},
     "output_type": "execute_result"
    }
   ],
   "source": [
    "pd.value_counts(df_train['marital'])"
   ]
  },
  {
   "cell_type": "code",
   "execution_count": 122,
   "metadata": {},
   "outputs": [
    {
     "data": {
      "text/plain": [
       "<matplotlib.axes._subplots.AxesSubplot at 0x7fbac2e33590>"
      ]
     },
     "execution_count": 122,
     "metadata": {},
     "output_type": "execute_result"
    },
    {
     "data": {
      "image/png": "[encoded data removed]",
      "text/plain": [
       "<matplotlib.figure.Figure at 0x7fbac307fb50>"
      ]
     },
     "metadata": {
      "needs_background": "light"
     },
     "output_type": "display_data"
    }
   ],
   "source": [
    "#Relative values\n",
    "cross = pd.crosstab(df_train['marital'], df_train['y'])\n",
    "cross = cross.div(cross.sum(1).astype(float), axis=0)\n",
    "cross.plot(kind='bar', stacked=True,grid=False)"
   ]
  },
  {
   "cell_type": "markdown",
   "metadata": {},
   "source": [
    "#### Remarks:\n",
    "* married and divorced indicate against propensity to making depo - surprise surprise ;)"
   ]
  },
  {
   "cell_type": "code",
   "execution_count": null,
   "metadata": {},
   "outputs": [],
   "source": []
  },
  {
   "cell_type": "code",
   "execution_count": null,
   "metadata": {},
   "outputs": [],
   "source": []
  },
  {
   "cell_type": "code",
   "execution_count": null,
   "metadata": {},
   "outputs": [],
   "source": []
  },
  {
   "cell_type": "markdown",
   "metadata": {},
   "source": [
    "### Education\n",
    "\n",
    "Education is somehow correlated with income and potentially behavioral patterns thus may affect our target - at least in theory."
   ]
  },
  {
   "cell_type": "code",
   "execution_count": 123,
   "metadata": {
    "scrolled": true
   },
   "outputs": [
    {
     "data": {
      "text/plain": [
       "<matplotlib.axes._subplots.AxesSubplot at 0x7fbac2d6f050>"
      ]
     },
     "execution_count": 123,
     "metadata": {},
     "output_type": "execute_result"
    },
    {
     "data": {
      "image/png": "[encoded data removed]",
      "text/plain": [
       "<matplotlib.figure.Figure at 0x7fbac2e4f910>"
      ]
     },
     "metadata": {
      "needs_background": "light"
     },
     "output_type": "display_data"
    }
   ],
   "source": [
    "#Relative values\n",
    "cross = pd.crosstab(df_train['education'], df_train['y'])\n",
    "cross = cross.div(cross.sum(1).astype(float), axis=0)\n",
    "cross.plot(kind='bar', stacked=True,grid=False)"
   ]
  },
  {
   "cell_type": "code",
   "execution_count": null,
   "metadata": {},
   "outputs": [],
   "source": []
  },
  {
   "cell_type": "code",
   "execution_count": 124,
   "metadata": {
    "scrolled": true
   },
   "outputs": [
    {
     "data": {
      "text/plain": [
       "<matplotlib.axes._subplots.AxesSubplot at 0x7fbac333ac10>"
      ]
     },
     "execution_count": 124,
     "metadata": {},
     "output_type": "execute_result"
    },
    {
     "data": {
      "image/png": "[encoded data removed]",
      "text/plain": [
       "<matplotlib.figure.Figure at 0x7fbac2e3af50>"
      ]
     },
     "metadata": {
      "needs_background": "light"
     },
     "output_type": "display_data"
    }
   ],
   "source": [
    "plt.figure(figsize=(10,10))\n",
    "sns.countplot(x=\"education\", data=df_train)"
   ]
  },
  {
   "cell_type": "markdown",
   "metadata": {},
   "source": [
    "#### Remarks:\n",
    "* some modest tendency to growing likelyhood of saying yes to deposit along increased quality of education\n",
    "* with small exception for illiterate class ... but this is just noise\n",
    "* might be wise to try to recombine into slightly less classes"
   ]
  },
  {
   "cell_type": "markdown",
   "metadata": {},
   "source": [
    "### Default\n",
    "\n",
    "This should a strong indicator against subscribing a depo as defaulted ones do not make deposits."
   ]
  },
  {
   "cell_type": "code",
   "execution_count": null,
   "metadata": {},
   "outputs": [],
   "source": []
  },
  {
   "cell_type": "code",
   "execution_count": 125,
   "metadata": {},
   "outputs": [
    {
     "data": {
      "text/plain": [
       "<matplotlib.axes._subplots.AxesSubplot at 0x7fbac44f31d0>"
      ]
     },
     "execution_count": 125,
     "metadata": {},
     "output_type": "execute_result"
    },
    {
     "data": {
      "image/png": "[encoded data removed]",
      "text/plain": [
       "<matplotlib.figure.Figure at 0x7fbac2d4d710>"
      ]
     },
     "metadata": {
      "needs_background": "light"
     },
     "output_type": "display_data"
    }
   ],
   "source": [
    "cross = pd.crosstab(df_train['default'], df_train.y)\n",
    "cross = cross.div(cross.sum(1).astype(float), axis=0)\n",
    "cross.plot(kind='bar', stacked=True,grid=False)"
   ]
  },
  {
   "cell_type": "code",
   "execution_count": 126,
   "metadata": {
    "scrolled": true
   },
   "outputs": [
    {
     "data": {
      "text/plain": [
       "no         16408\n",
       "unknown     4389\n",
       "yes            2\n",
       "Name: default, dtype: int64"
      ]
     },
     "execution_count": 126,
     "metadata": {},
     "output_type": "execute_result"
    }
   ],
   "source": [
    "df_train['default'].value_counts()"
   ]
  },
  {
   "cell_type": "code",
   "execution_count": 127,
   "metadata": {},
   "outputs": [
    {
     "data": {
      "text/plain": [
       "no         16180\n",
       "unknown     4208\n",
       "yes            1\n",
       "Name: default, dtype: int64"
      ]
     },
     "execution_count": 127,
     "metadata": {},
     "output_type": "execute_result"
    }
   ],
   "source": [
    "df_test['default'].value_counts()"
   ]
  },
  {
   "cell_type": "markdown",
   "metadata": {},
   "source": [
    "#### Remarks:\n",
    "* our gut feeling was confirmed: default is strong indicator against making depo indeed\n",
    "* sadly for us, only 3 customers are known to have defaulted\n",
    "* we have a huge fraction of unknown data with slightly lower propensity to depo vs clear \"no default\" set ... most likely there are some defaulted but not labeled examples in \"unknown\""
   ]
  },
  {
   "cell_type": "code",
   "execution_count": null,
   "metadata": {},
   "outputs": [],
   "source": []
  },
  {
   "cell_type": "markdown",
   "metadata": {},
   "source": [
    "### Housing\n",
    "\n",
    "House loan usually constitutes a chunky part of one's overall debt. But this is a long-term debt and our deposit is defo a shorter term. Most likely it's mortgage loan with interest rate significantly lower than consumer loans. Thus it's not uncommon for a person to have both house loan and term depo. But still a housing loan payments may consume a siginificant part of one's income and in this way affect a depo decision.\n",
    "\n"
   ]
  },
  {
   "cell_type": "code",
   "execution_count": null,
   "metadata": {},
   "outputs": [],
   "source": []
  },
  {
   "cell_type": "code",
   "execution_count": null,
   "metadata": {},
   "outputs": [],
   "source": []
  },
  {
   "cell_type": "markdown",
   "metadata": {},
   "source": [
    "### Loan\n",
    "This feature states if one has a personal loan. Personal loans interest rate is defo higher than depo rate, otherwise I could earn risk-free money just by taking loan and puting it at higher depo rate driving such a merciful bank into bankruptcy. Puting it the other way round, theoritically having personal loan should be a strong indicator that the person will not subscribe a depo."
   ]
  },
  {
   "cell_type": "code",
   "execution_count": 128,
   "metadata": {},
   "outputs": [
    {
     "data": {
      "text/plain": [
       "loan     y      \n",
       "no       no         15161\n",
       "         unknown    16828\n",
       "         yes         1961\n",
       "unknown  no           434\n",
       "         unknown      500\n",
       "         yes           56\n",
       "yes      no          2824\n",
       "         unknown     3061\n",
       "         yes          363\n",
       "dtype: int64"
      ]
     },
     "execution_count": 128,
     "metadata": {},
     "output_type": "execute_result"
    }
   ],
   "source": [
    "df.groupby(['loan', 'y']).size()"
   ]
  },
  {
   "cell_type": "markdown",
   "metadata": {},
   "source": [
    "At least 363 people have both loan and deposit. This may be due to some irrationality of our examples agents or due to some very rare specific circumstances.\n"
   ]
  },
  {
   "cell_type": "markdown",
   "metadata": {},
   "source": [
    "### Contact date"
   ]
  },
  {
   "cell_type": "code",
   "execution_count": null,
   "metadata": {},
   "outputs": [],
   "source": []
  },
  {
   "cell_type": "code",
   "execution_count": 129,
   "metadata": {},
   "outputs": [
    {
     "name": "stdout",
     "output_type": "stream",
     "text": [
      "The type of contact date is <type 'str'>\n",
      "Date points span from 2008-05-01  to  2010-11-30\n"
     ]
    }
   ],
   "source": [
    "print \"The type of contact date is\", type(df['contact_date'][0])\n",
    "print \"Date points span from\", min(df['contact_date']), \" to \", max(df['contact_date'])"
   ]
  },
  {
   "cell_type": "code",
   "execution_count": null,
   "metadata": {},
   "outputs": [],
   "source": []
  },
  {
   "cell_type": "markdown",
   "metadata": {},
   "source": [
    "#### Remarks:\n",
    "I can't see a definition of this feature but most likely it is what it is - contact date :) If so, then this is really interesting: data has been collected over almost 2.5 year span period. This is a loong span, especially that 2008-2010 was THE bumpy ride. Forget about stationarity. And we have no underpinning of financial markets state along the way. Technically - let's convert it to days passed since contact."
   ]
  },
  {
   "cell_type": "markdown",
   "metadata": {},
   "source": [
    "### Contact"
   ]
  },
  {
   "cell_type": "code",
   "execution_count": 130,
   "metadata": {},
   "outputs": [
    {
     "data": {
      "text/plain": [
       "cellular     26144\n",
       "telephone    15044\n",
       "Name: contact, dtype: int64"
      ]
     },
     "execution_count": 130,
     "metadata": {},
     "output_type": "execute_result"
    }
   ],
   "source": [
    "df['contact'].value_counts()"
   ]
  },
  {
   "cell_type": "code",
   "execution_count": null,
   "metadata": {},
   "outputs": [],
   "source": []
  },
  {
   "cell_type": "code",
   "execution_count": null,
   "metadata": {},
   "outputs": [],
   "source": []
  },
  {
   "cell_type": "markdown",
   "metadata": {},
   "source": [
    "### Campaign \n",
    "\n",
    "This is the number of contacts with a customer made in this campaign."
   ]
  },
  {
   "cell_type": "code",
   "execution_count": 131,
   "metadata": {},
   "outputs": [
    {
     "name": "stdout",
     "output_type": "stream",
     "text": [
      "average # of contacts for hit =  2.09621848739\n",
      "average # of contacts for miss =  2.64379173679\n",
      "average # of contact in train data =  2.58113370835\n",
      "average # of contact in test data =  2.55377899848\n"
     ]
    }
   ],
   "source": [
    "print \"average # of contacts for hit = \", df.loc[df['y'] == 'yes']['campaign'].mean()\n",
    "print \"average # of contacts for miss = \", df.loc[df['y'] == 'no']['campaign'].mean()\n",
    "print \"average # of contact in train data = \", df.loc[df['y'] != 'unknown']['campaign'].mean()\n",
    "print \"average # of contact in test data = \", df.loc[df['y'] == 'unknown']['campaign'].mean()"
   ]
  },
  {
   "cell_type": "markdown",
   "metadata": {},
   "source": [
    "#### Remarks:\n",
    "On average, 2 calls were sufficient to strike a deal. We can see there was some kind of sales push if 2 calls were not enough."
   ]
  },
  {
   "cell_type": "code",
   "execution_count": null,
   "metadata": {},
   "outputs": [],
   "source": []
  },
  {
   "cell_type": "markdown",
   "metadata": {},
   "source": [
    "### Pdays\n",
    "\"number of days that passed by after the client was last contacted from a previous campaign (numeric; 999 means client was not previously contacted)\""
   ]
  },
  {
   "cell_type": "code",
   "execution_count": null,
   "metadata": {},
   "outputs": [],
   "source": []
  },
  {
   "cell_type": "code",
   "execution_count": null,
   "metadata": {},
   "outputs": [],
   "source": []
  },
  {
   "cell_type": "markdown",
   "metadata": {},
   "source": [
    "### Previous\n",
    "number of contacts performed before this campaign and for this client (numeric)"
   ]
  },
  {
   "cell_type": "code",
   "execution_count": null,
   "metadata": {},
   "outputs": [],
   "source": []
  },
  {
   "cell_type": "markdown",
   "metadata": {},
   "source": [
    "#### Remarks:\n",
    "We don't have information of what kind that previous campaign was. But if this was unrelated to current sale, still it might be valueable information as it may give some hints about susceptibility to sales persuasion/marketing efforts. Obvious one-hot encoding candidate."
   ]
  },
  {
   "cell_type": "markdown",
   "metadata": {},
   "source": [
    "### Poutcome\n",
    "outcome of the previous marketing campaign (categorical: 'failure','nonexistent','success')"
   ]
  },
  {
   "cell_type": "code",
   "execution_count": 132,
   "metadata": {},
   "outputs": [
    {
     "data": {
      "text/plain": [
       "<matplotlib.axes._subplots.AxesSubplot at 0x7fbac2fb0f50>"
      ]
     },
     "execution_count": 132,
     "metadata": {},
     "output_type": "execute_result"
    },
    {
     "data": {
      "image/png": "[encoded data removed]",
      "text/plain": [
       "<matplotlib.figure.Figure at 0x7fbac2cb2310>"
      ]
     },
     "metadata": {
      "needs_background": "light"
     },
     "output_type": "display_data"
    }
   ],
   "source": [
    "cross = pd.crosstab(df_train['poutcome'], df_train.y)\n",
    "cross = cross.div(cross.sum(1).astype(float), axis=0)\n",
    "cross.plot(kind='bar', stacked=True,grid=False)"
   ]
  },
  {
   "cell_type": "code",
   "execution_count": null,
   "metadata": {},
   "outputs": [],
   "source": []
  },
  {
   "cell_type": "code",
   "execution_count": null,
   "metadata": {},
   "outputs": [],
   "source": []
  },
  {
   "cell_type": "markdown",
   "metadata": {},
   "source": [
    "# Feature engineering"
   ]
  },
  {
   "cell_type": "markdown",
   "metadata": {},
   "source": [
    "#### Age"
   ]
  },
  {
   "cell_type": "code",
   "execution_count": 133,
   "metadata": {},
   "outputs": [
    {
     "name": "stderr",
     "output_type": "stream",
     "text": [
      "/usr/lib/python2.7/site-packages/ipykernel_launcher.py:5: SettingWithCopyWarning: \n",
      "A value is trying to be set on a copy of a slice from a DataFrame.\n",
      "Try using .loc[row_indexer,col_indexer] = value instead\n",
      "\n",
      "See the caveats in the documentation: http://pandas.pydata.org/pandas-docs/stable/indexing.html#indexing-view-versus-copy\n",
      "  \"\"\"\n"
     ]
    }
   ],
   "source": [
    "# birth date into age\n",
    "cutoff_year = 2018\n",
    "for el in combine:\n",
    "    el.rename(columns={'birth_date': 'age'}, inplace=True)\n",
    "    el['age'] = [cutoff_year - int(s[0:4]) for s in el['age']]\n",
    "\n",
    "# convert age into bins\n",
    "bins = [0,30,35,40,45,50,55,60, 65, 70, np.inf]\n",
    "labels=['age_30', 'age_35', 'age_40', 'age_45', 'age_50', 'age_55', 'age_60', 'age_65', \n",
    "       'age_70', 'age_70+']\n",
    "for df in combine:\n",
    "    df['age_band'] = pd.cut(df['age'], bins=bins, labels=labels)"
   ]
  },
  {
   "cell_type": "code",
   "execution_count": 134,
   "metadata": {
    "scrolled": true
   },
   "outputs": [
    {
     "data": {
      "text/plain": [
       "<matplotlib.axes._subplots.AxesSubplot at 0x7fbac2e18990>"
      ]
     },
     "execution_count": 134,
     "metadata": {},
     "output_type": "execute_result"
    },
    {
     "data": {
      "image/png": "[encoded data removed]",
      "text/plain": [
       "<matplotlib.figure.Figure at 0x7fbac2b60850>"
      ]
     },
     "metadata": {
      "needs_background": "light"
     },
     "output_type": "display_data"
    }
   ],
   "source": [
    "plt.figure(figsize=(10,10))\n",
    "n_bins = 15\n",
    "sns.distplot(df_train['age'], bins=n_bins)\n",
    "sns.distplot(df_test['age'], bins=n_bins)"
   ]
  },
  {
   "cell_type": "code",
   "execution_count": 135,
   "metadata": {},
   "outputs": [
    {
     "data": {
      "text/plain": [
       "<matplotlib.axes._subplots.AxesSubplot at 0x7fbac2b67810>"
      ]
     },
     "execution_count": 135,
     "metadata": {},
     "output_type": "execute_result"
    },
    {
     "data": {
      "image/png": "[encoded data removed]",
      "text/plain": [
       "<matplotlib.figure.Figure at 0x7fbac2d4d350>"
      ]
     },
     "metadata": {
      "needs_background": "light"
     },
     "output_type": "display_data"
    }
   ],
   "source": [
    "sns.violinplot(y=df_train[\"age\"], x=df_train[\"y\"])"
   ]
  },
  {
   "cell_type": "markdown",
   "metadata": {},
   "source": [
    "#### Remarks:\n",
    "* there is some interesting flattening around mid years in test vs train set\n",
    "* there is interesting long tail on \"the elder\" side among those who subscribed depo "
   ]
  },
  {
   "cell_type": "markdown",
   "metadata": {},
   "source": [
    "#### Education"
   ]
  },
  {
   "cell_type": "code",
   "execution_count": 136,
   "metadata": {},
   "outputs": [],
   "source": [
    "# combine basic\n",
    "for df in combine:\n",
    "    df['education'] = df['education'].replace(['basic.6y', 'basic.9y', 'basic.4y', \n",
    "                                               'illiterate'], 'basic')\n",
    "# combine higher\n",
    "for df in combine:\n",
    "    df['education'] = df['education'].replace(['high.school', 'professional.course'], \n",
    "                                              'higher')"
   ]
  },
  {
   "cell_type": "code",
   "execution_count": 137,
   "metadata": {},
   "outputs": [
    {
     "data": {
      "text/plain": [
       "<matplotlib.axes._subplots.AxesSubplot at 0x7fbac2a2ca10>"
      ]
     },
     "execution_count": 137,
     "metadata": {},
     "output_type": "execute_result"
    },
    {
     "data": {
      "image/png": "[encoded data removed]",
      "text/plain": [
       "<matplotlib.figure.Figure at 0x7fbac3a12750>"
      ]
     },
     "metadata": {
      "needs_background": "light"
     },
     "output_type": "display_data"
    }
   ],
   "source": [
    "#Relative values\n",
    "cross = pd.crosstab(df_train['education'], df_train['y'])\n",
    "cross = cross.div(cross.sum(1).astype(float), axis=0)\n",
    "cross.plot(kind='bar', stacked=True,grid=False)"
   ]
  },
  {
   "cell_type": "code",
   "execution_count": null,
   "metadata": {},
   "outputs": [],
   "source": []
  },
  {
   "cell_type": "code",
   "execution_count": null,
   "metadata": {},
   "outputs": [],
   "source": []
  },
  {
   "cell_type": "markdown",
   "metadata": {},
   "source": [
    "#### Campaign"
   ]
  },
  {
   "cell_type": "code",
   "execution_count": 138,
   "metadata": {},
   "outputs": [],
   "source": [
    "# convert campaign into bins\n",
    "bins = [0,1,2,3,4,5,6,np.inf]\n",
    "labels=['camp_1', 'camp_2', 'camp_3', 'camp_4', 'camp_5', 'camp_6', 'camp_7+']\n",
    "for df in combine:\n",
    "    df['campaign_band'] = pd.cut(df['campaign'], bins=bins, labels=labels)"
   ]
  },
  {
   "cell_type": "markdown",
   "metadata": {},
   "source": [
    "#### Contact days"
   ]
  },
  {
   "cell_type": "code",
   "execution_count": 139,
   "metadata": {},
   "outputs": [],
   "source": [
    "# contact days\n",
    "combine = [df_train, df_test]\n",
    "date0=pd.to_datetime('2014-01-01', format='%Y-%m-%d')\n",
    "\n",
    "for df in combine:\n",
    "    df.rename(columns={'contact_date': 'contact_days_ago'}, inplace=True)\n",
    "    df['contact_days_ago'] = (date0 - pd.to_datetime(df['contact_days_ago'])).dt.days\n",
    "\n",
    "# centralize a bit\n",
    "for df in combine:\n",
    "    df['contact_days_ago'] = df['contact_days_ago'] - 1128\n",
    "\n",
    "# create labels for bins (default labels not good for xgb)\n",
    "n_bins = 10\n",
    "label_pref = \"days_ago_band_\"\n",
    "labels = []\n",
    "for i in range(n_bins):\n",
    "    label = label_pref + str(i)\n",
    "    labels.append(label)\n",
    "    \n",
    "for df in combine:\n",
    "    df['contact_days_band'] = pd.cut(df['contact_days_ago'], bins=n_bins, labels=labels)"
   ]
  },
  {
   "cell_type": "markdown",
   "metadata": {},
   "source": [
    "#### Pdays"
   ]
  },
  {
   "cell_type": "code",
   "execution_count": 140,
   "metadata": {},
   "outputs": [],
   "source": [
    "# pdays\n",
    "for df in combine:\n",
    "    df['first_time'] = df['pdays'] == 999"
   ]
  },
  {
   "cell_type": "markdown",
   "metadata": {},
   "source": [
    "### Droping columns and hot encoding"
   ]
  },
  {
   "cell_type": "code",
   "execution_count": 141,
   "metadata": {
    "scrolled": true
   },
   "outputs": [],
   "source": [
    "# drop redundant columns\n",
    "columns_to_drop_0 = ['age', 'contact_days_ago', 'pdays', 'campaign']\n",
    "df_train = df_train.drop(columns_to_drop_0, axis = 1)\n",
    "df_test = df_test.drop(columns_to_drop_0, axis = 1)\n",
    "\n",
    "# hot encoding categorical data\n",
    "hot_features_0 = ['job', 'marital', 'education', 'default', \n",
    "                'housing', 'loan', 'contact', 'poutcome', \n",
    "                  'age_band','campaign_band', 'contact_days_band']\n",
    "df_train = pd.get_dummies(df_train, columns=hot_features_0)\n",
    "df_test = pd.get_dummies(df_test, columns=hot_features_0)"
   ]
  },
  {
   "cell_type": "code",
   "execution_count": null,
   "metadata": {},
   "outputs": [],
   "source": []
  },
  {
   "cell_type": "markdown",
   "metadata": {},
   "source": [
    "### Get X, y and train/dev split"
   ]
  },
  {
   "cell_type": "code",
   "execution_count": 142,
   "metadata": {},
   "outputs": [],
   "source": [
    "X = df_train.drop(['y', 'id'], axis = 'columns')\n",
    "y = df_train['y']\n",
    "\n",
    "X_train, X_dev, y_train, y_dev = train_test_split(X, y, test_size=0.2)"
   ]
  },
  {
   "cell_type": "code",
   "execution_count": 143,
   "metadata": {},
   "outputs": [
    {
     "data": {
      "text/plain": [
       "(20799, 65)"
      ]
     },
     "execution_count": 143,
     "metadata": {},
     "output_type": "execute_result"
    }
   ],
   "source": [
    "df_train.shape"
   ]
  },
  {
   "cell_type": "code",
   "execution_count": 144,
   "metadata": {},
   "outputs": [
    {
     "data": {
      "text/plain": [
       "(20389, 65)"
      ]
     },
     "execution_count": 144,
     "metadata": {},
     "output_type": "execute_result"
    }
   ],
   "source": [
    "df_test.shape"
   ]
  },
  {
   "cell_type": "code",
   "execution_count": 145,
   "metadata": {
    "scrolled": true
   },
   "outputs": [
    {
     "name": "stdout",
     "output_type": "stream",
     "text": [
      "<class 'pandas.core.frame.DataFrame'>\n",
      "Int64Index: 20799 entries, 0 to 41187\n",
      "Data columns (total 65 columns):\n",
      "id                                   20799 non-null int64\n",
      "previous                             20799 non-null int64\n",
      "y                                    20799 non-null int64\n",
      "first_time                           20799 non-null bool\n",
      "job_admin.                           20799 non-null uint8\n",
      "job_blue-collar                      20799 non-null uint8\n",
      "job_entrepreneur                     20799 non-null uint8\n",
      "job_housemaid                        20799 non-null uint8\n",
      "job_management                       20799 non-null uint8\n",
      "job_retired                          20799 non-null uint8\n",
      "job_self-employed                    20799 non-null uint8\n",
      "job_services                         20799 non-null uint8\n",
      "job_student                          20799 non-null uint8\n",
      "job_technician                       20799 non-null uint8\n",
      "job_unemployed                       20799 non-null uint8\n",
      "job_unknown                          20799 non-null uint8\n",
      "marital_divorced                     20799 non-null uint8\n",
      "marital_married                      20799 non-null uint8\n",
      "marital_single                       20799 non-null uint8\n",
      "marital_unknown                      20799 non-null uint8\n",
      "education_basic                      20799 non-null uint8\n",
      "education_higher                     20799 non-null uint8\n",
      "education_university.degree          20799 non-null uint8\n",
      "education_unknown                    20799 non-null uint8\n",
      "default_no                           20799 non-null uint8\n",
      "default_unknown                      20799 non-null uint8\n",
      "default_yes                          20799 non-null uint8\n",
      "housing_no                           20799 non-null uint8\n",
      "housing_unknown                      20799 non-null uint8\n",
      "housing_yes                          20799 non-null uint8\n",
      "loan_no                              20799 non-null uint8\n",
      "loan_unknown                         20799 non-null uint8\n",
      "loan_yes                             20799 non-null uint8\n",
      "contact_cellular                     20799 non-null uint8\n",
      "contact_telephone                    20799 non-null uint8\n",
      "poutcome_failure                     20799 non-null uint8\n",
      "poutcome_nonexistent                 20799 non-null uint8\n",
      "poutcome_success                     20799 non-null uint8\n",
      "age_band_age_30                      20799 non-null uint8\n",
      "age_band_age_35                      20799 non-null uint8\n",
      "age_band_age_40                      20799 non-null uint8\n",
      "age_band_age_45                      20799 non-null uint8\n",
      "age_band_age_50                      20799 non-null uint8\n",
      "age_band_age_55                      20799 non-null uint8\n",
      "age_band_age_60                      20799 non-null uint8\n",
      "age_band_age_65                      20799 non-null uint8\n",
      "age_band_age_70                      20799 non-null uint8\n",
      "age_band_age_70+                     20799 non-null uint8\n",
      "campaign_band_camp_1                 20799 non-null uint8\n",
      "campaign_band_camp_2                 20799 non-null uint8\n",
      "campaign_band_camp_3                 20799 non-null uint8\n",
      "campaign_band_camp_4                 20799 non-null uint8\n",
      "campaign_band_camp_5                 20799 non-null uint8\n",
      "campaign_band_camp_6                 20799 non-null uint8\n",
      "campaign_band_camp_7+                20799 non-null uint8\n",
      "contact_days_band_days_ago_band_0    20799 non-null uint8\n",
      "contact_days_band_days_ago_band_1    20799 non-null uint8\n",
      "contact_days_band_days_ago_band_2    20799 non-null uint8\n",
      "contact_days_band_days_ago_band_3    20799 non-null uint8\n",
      "contact_days_band_days_ago_band_4    20799 non-null uint8\n",
      "contact_days_band_days_ago_band_5    20799 non-null uint8\n",
      "contact_days_band_days_ago_band_6    20799 non-null uint8\n",
      "contact_days_band_days_ago_band_7    20799 non-null uint8\n",
      "contact_days_band_days_ago_band_8    20799 non-null uint8\n",
      "contact_days_band_days_ago_band_9    20799 non-null uint8\n",
      "dtypes: bool(1), int64(3), uint8(61)\n",
      "memory usage: 2.5 MB\n"
     ]
    }
   ],
   "source": [
    "df_train.info()"
   ]
  },
  {
   "cell_type": "markdown",
   "metadata": {},
   "source": [
    "## Balancing"
   ]
  },
  {
   "cell_type": "markdown",
   "metadata": {},
   "source": [
    "To balance the data, we can either undersample (delete the instances from over-represented class) or oversample (add copies of instances from the under-represented class)"
   ]
  },
  {
   "cell_type": "code",
   "execution_count": null,
   "metadata": {},
   "outputs": [],
   "source": []
  },
  {
   "cell_type": "markdown",
   "metadata": {},
   "source": [
    "### Undersampling "
   ]
  },
  {
   "cell_type": "code",
   "execution_count": 148,
   "metadata": {},
   "outputs": [],
   "source": [
    "rus = RandomUnderSampler(return_indices=True)\n",
    "X_rus, y_rus, id_rus = rus.fit_sample(X_train, y_train)"
   ]
  },
  {
   "cell_type": "markdown",
   "metadata": {},
   "source": [
    "### Oversampling with SMOTE"
   ]
  },
  {
   "cell_type": "code",
   "execution_count": 147,
   "metadata": {},
   "outputs": [
    {
     "name": "stderr",
     "output_type": "stream",
     "text": [
      "/usr/lib64/python2.7/site-packages/sklearn/externals/joblib/parallel.py:268: DeprecationWarning: check_pickle is deprecated in joblib 0.12 and will be removed in 0.13\n",
      "  ' removed in 0.13', DeprecationWarning)\n"
     ]
    }
   ],
   "source": [
    "sm = SMOTE()\n",
    "X_sm, y_sm = sm.fit_resample(X_train, y_train)"
   ]
  },
  {
   "cell_type": "code",
   "execution_count": 150,
   "metadata": {},
   "outputs": [
    {
     "name": "stdout",
     "output_type": "stream",
     "text": [
      "# of estimator = 100, # of depths = 2\n",
      "{'train': 0.75748610007508987, 'dev': 0.7678664332850984}\n",
      "# of estimator = 100, # of depths = 4\n",
      "{'train': 0.77344486044509619, 'dev': 0.77610508700203695}\n",
      "# of estimator = 100, # of depths = 6\n",
      "{'train': 0.7889962013753874, 'dev': 0.78333428118266313}\n",
      "# of estimator = 100, # of depths = 8\n",
      "{'train': 0.80540299932658732, 'dev': 0.78406833783035179}\n",
      "# of estimator = 100, # of depths = 10\n",
      "{'train': 0.82892632870479521, 'dev': 0.78344854968520883}\n",
      "# of estimator = 100, # of depths = 20\n",
      "{'train': 0.95787472702460585, 'dev': 0.77646211024962142}\n",
      "# of estimator = 70, # of depths = 2\n",
      "{'train': 0.75497259995940724, 'dev': 0.76519244500894135}\n",
      "# of estimator = 70, # of depths = 4\n",
      "{'train': 0.77269286953715133, 'dev': 0.77578782076801067}\n",
      "# of estimator = 70, # of depths = 6\n",
      "{'train': 0.78861374270302642, 'dev': 0.7819575300310263}\n",
      "# of estimator = 70, # of depths = 8\n",
      "{'train': 0.80479365437941497, 'dev': 0.78356703085144253}\n",
      "# of estimator = 70, # of depths = 10\n",
      "{'train': 0.82836375561125708, 'dev': 0.78248885223871478}\n",
      "# of estimator = 70, # of depths = 20\n",
      "{'train': 0.95773071559515977, 'dev': 0.7739108158033865}\n",
      "# of estimator = 40, # of depths = 2\n",
      "{'train': 0.7520640788595665, 'dev': 0.76075071773257574}\n",
      "# of estimator = 40, # of depths = 4\n",
      "{'train': 0.7731007987518379, 'dev': 0.7748460271421922}\n",
      "# of estimator = 40, # of depths = 6\n",
      "{'train': 0.78816377525944081, 'dev': 0.7809335894632855}\n",
      "# of estimator = 40, # of depths = 8\n",
      "{'train': 0.80485282468860575, 'dev': 0.78280585518126045}\n",
      "# of estimator = 40, # of depths = 10\n",
      "{'train': 0.82583248619656813, 'dev': 0.77993861095840211}\n",
      "# of estimator = 40, # of depths = 20\n",
      "{'train': 0.95709844898051932, 'dev': 0.76925898192556641}\n",
      "# of estimator = 10, # of depths = 2\n",
      "{'train': 0.72526091193353348, 'dev': 0.7320777489210315}\n",
      "# of estimator = 10, # of depths = 4\n",
      "{'train': 0.7652005793374077, 'dev': 0.77385736763284108}\n",
      "# of estimator = 10, # of depths = 6\n",
      "{'train': 0.78463820796910821, 'dev': 0.77888834124260942}\n",
      "# of estimator = 10, # of depths = 8\n",
      "{'train': 0.79972412435042828, 'dev': 0.78001259586442795}\n",
      "# of estimator = 10, # of depths = 10\n",
      "{'train': 0.81970040306450498, 'dev': 0.77331709351481481}\n",
      "# of estimator = 10, # of depths = 20\n",
      "{'train': 0.94877375087107796, 'dev': 0.76043687428779649}\n",
      "# of estimator = 200, # of depths = 2\n",
      "{'train': 0.75799046779063306, 'dev': 0.76685960666359132}\n",
      "# of estimator = 200, # of depths = 4\n",
      "{'train': 0.77474247442877719, 'dev': 0.77844206218312872}\n",
      "# of estimator = 200, # of depths = 6\n",
      "{'train': 0.78908357316425115, 'dev': 0.78480529068432614}\n",
      "# of estimator = 200, # of depths = 8\n",
      "{'train': 0.80755559696870327, 'dev': 0.7860972619792358}\n",
      "# of estimator = 200, # of depths = 10\n",
      "{'train': 0.82965095562052027, 'dev': 0.78509359485549501}\n",
      "# of estimator = 200, # of depths = 20\n",
      "{'train': 0.95892930579062852, 'dev': 0.77785228926676475}\n",
      "# of estimator = 50, # of depths = 2\n",
      "{'train': 0.75498244954010651, 'dev': 0.76439098574223985}\n",
      "# of estimator = 50, # of depths = 4\n",
      "{'train': 0.77186978322693234, 'dev': 0.77438737338312702}\n",
      "# of estimator = 50, # of depths = 6\n",
      "{'train': 0.78878318826230021, 'dev': 0.78164737266697415}\n",
      "# of estimator = 50, # of depths = 8\n",
      "{'train': 0.80514146655996344, 'dev': 0.78402779094235175}\n",
      "# of estimator = 50, # of depths = 10\n",
      "{'train': 0.82619990650727027, 'dev': 0.78133905834328565}\n",
      "# of estimator = 50, # of depths = 20\n",
      "{'train': 0.95702030775988933, 'dev': 0.77161175459548947}\n",
      "# of estimator = 20, # of depths = 2\n",
      "{'train': 0.74006477710562735, 'dev': 0.74792210363573941}\n",
      "# of estimator = 20, # of depths = 4\n",
      "{'train': 0.7722885815722611, 'dev': 0.77401797543595796}\n",
      "# of estimator = 20, # of depths = 6\n",
      "{'train': 0.78766669004349033, 'dev': 0.77931382027512908}\n",
      "# of estimator = 20, # of depths = 8\n",
      "{'train': 0.80221051536137677, 'dev': 0.77720538209912826}\n",
      "# of estimator = 20, # of depths = 10\n",
      "{'train': 0.82394966875186482, 'dev': 0.77338633917419153}\n",
      "# of estimator = 20, # of depths = 20\n",
      "{'train': 0.95429126386251106, 'dev': 0.76663106965850047}\n",
      "# of estimator = 150, # of depths = 2\n",
      "{'train': 0.75865754475332681, 'dev': 0.76790250421792949}\n",
      "# of estimator = 150, # of depths = 4\n",
      "{'train': 0.77455014361453323, 'dev': 0.77749421285325815}\n",
      "# of estimator = 150, # of depths = 6\n",
      "{'train': 0.78880612813601725, 'dev': 0.78395222628744266}\n",
      "# of estimator = 150, # of depths = 8\n",
      "{'train': 0.80673882822688103, 'dev': 0.78471972095315734}\n",
      "# of estimator = 150, # of depths = 10\n",
      "{'train': 0.82930703957725393, 'dev': 0.78469760446879366}\n",
      "# of estimator = 150, # of depths = 20\n",
      "{'train': 0.95816384225843709, 'dev': 0.77681544741647857}\n",
      "# of estimator = 250, # of depths = 2\n",
      "{'train': 0.75762637922349474, 'dev': 0.76685723704026676}\n",
      "# of estimator = 250, # of depths = 4\n",
      "{'train': 0.77513001264460402, 'dev': 0.77912925294728475}\n",
      "# of estimator = 250, # of depths = 6\n",
      "{'train': 0.78952806052689317, 'dev': 0.78660225503887227}\n",
      "# of estimator = 250, # of depths = 8\n",
      "{'train': 0.80797867378254262, 'dev': 0.78663227026765159}\n",
      "# of estimator = 250, # of depths = 10\n",
      "{'train': 0.83028751890992059, 'dev': 0.78536425849746916}\n",
      "# of estimator = 250, # of depths = 20\n",
      "{'train': 0.95968894332314592, 'dev': 0.77735361520266066}\n",
      "# of estimator = 125, # of depths = 2\n",
      "{'train': 0.75971276073806393, 'dev': 0.7685657354573584}\n",
      "# of estimator = 125, # of depths = 4\n",
      "{'train': 0.77443315025857595, 'dev': 0.77712349844868656}\n",
      "# of estimator = 125, # of depths = 6\n",
      "{'train': 0.78829152850854634, 'dev': 0.78365681324629977}\n",
      "# of estimator = 125, # of depths = 8\n",
      "{'train': 0.80573442588305233, 'dev': 0.78441245979539076}\n",
      "# of estimator = 125, # of depths = 10\n",
      "{'train': 0.82892989712959553, 'dev': 0.78477158937481961}\n",
      "# of estimator = 125, # of depths = 20\n",
      "{'train': 0.95753692828099735, 'dev': 0.77642051019569924}\n",
      "# of estimator = 30, # of depths = 2\n",
      "{'train': 0.74907011583325378, 'dev': 0.75584507086753483}\n",
      "# of estimator = 30, # of depths = 4\n",
      "{'train': 0.77069040062413929, 'dev': 0.77451770266598419}\n",
      "# of estimator = 30, # of depths = 6\n",
      "{'train': 0.78742702298189382, 'dev': 0.78013976564951903}\n",
      "# of estimator = 30, # of depths = 8\n",
      "{'train': 0.80444518677390298, 'dev': 0.78293302496635131}\n",
      "# of estimator = 30, # of depths = 10\n",
      "{'train': 0.82593069070357616, 'dev': 0.77857765729559625}\n",
      "# of estimator = 30, # of depths = 20\n",
      "{'train': 0.95619388970610675, 'dev': 0.77011625898613822}\n"
     ]
    }
   ],
   "source": [
    "# Random Forest with SMOTE\n",
    "estim_set = {10, 20, 30, 40, 50, 70, 100, 125, 150, 200, 250}\n",
    "depth_set = {2, 4, 6, 8, 10, 20}\n",
    "yhat_probs = {}\n",
    "auc_scores = {}\n",
    "for e in estim_set:\n",
    "    for d in depth_set:\n",
    "        rf = RandomForestClassifier(n_estimators=e, max_depth=d, random_state=0)\n",
    "        rf.fit(X_sm, y_sm)\n",
    "        yhat_probs['train'] = rf.predict_proba(X_train)[:,1]\n",
    "        yhat_probs['dev'] = rf.predict_proba(X_dev)[:,1]\n",
    "        auc_scores['dev'] = roc_auc_score(y_dev, yhat_probs['dev'])\n",
    "        auc_scores['train'] = roc_auc_score(y_train, yhat_probs['train'])\n",
    "        print(\"# of estimator = {}, # of depths = {}\".format(e, d))\n",
    "        print(auc_scores)"
   ]
  },
  {
   "cell_type": "code",
   "execution_count": 152,
   "metadata": {},
   "outputs": [
    {
     "name": "stdout",
     "output_type": "stream",
     "text": [
      "# of estimator = 100, # of depths = 2\n",
      "{'train': 0.75720987486553781, 'dev': 0.7666447608154876}\n",
      "# of estimator = 100, # of depths = 4\n",
      "{'train': 0.77277153873900173, 'dev': 0.77687890066328391}\n",
      "# of estimator = 100, # of depths = 6\n",
      "{'train': 0.79157748335602918, 'dev': 0.78549616752920959}\n",
      "# of estimator = 100, # of depths = 8\n",
      "{'train': 0.81231137870898618, 'dev': 0.78962431465227623}\n",
      "# of estimator = 100, # of depths = 10\n",
      "{'train': 0.83302861534412465, 'dev': 0.79023857367632833}\n",
      "# of estimator = 100, # of depths = 20\n",
      "{'train': 0.93469454902720739, 'dev': 0.7735985521074904}\n",
      "# of estimator = 70, # of depths = 2\n",
      "{'train': 0.75578377938279218, 'dev': 0.76622059824037037}\n",
      "# of estimator = 70, # of depths = 4\n",
      "{'train': 0.7703542404429391, 'dev': 0.77522622004006236}\n",
      "# of estimator = 70, # of depths = 6\n",
      "{'train': 0.78882480774747266, 'dev': 0.78414469235970252}\n",
      "# of estimator = 70, # of depths = 8\n",
      "{'train': 0.81179799890019688, 'dev': 0.78998449739762688}\n",
      "# of estimator = 70, # of depths = 10\n",
      "{'train': 0.831982010915156, 'dev': 0.78881837943040578}\n",
      "# of estimator = 70, # of depths = 20\n",
      "{'train': 0.93422954322196283, 'dev': 0.7744455608003219}\n",
      "# of estimator = 40, # of depths = 2\n",
      "{'train': 0.75404675757993511, 'dev': 0.76392285348987599}\n",
      "# of estimator = 40, # of depths = 4\n",
      "{'train': 0.77332287857691806, 'dev': 0.77768983842328421}\n",
      "# of estimator = 40, # of depths = 6\n",
      "{'train': 0.78962382539653753, 'dev': 0.78490323511507942}\n",
      "# of estimator = 40, # of depths = 8\n",
      "{'train': 0.81120045160236476, 'dev': 0.78906139746692527}\n",
      "# of estimator = 40, # of depths = 10\n",
      "{'train': 0.82956822642514694, 'dev': 0.78801586699778192}\n",
      "# of estimator = 40, # of depths = 20\n",
      "{'train': 0.93068440421397458, 'dev': 0.77093720182239822}\n",
      "# of estimator = 10, # of depths = 2\n",
      "{'train': 0.72313109030889378, 'dev': 0.733091947703993}\n",
      "# of estimator = 10, # of depths = 4\n",
      "{'train': 0.77200554722558989, 'dev': 0.77689548802655661}\n",
      "# of estimator = 10, # of depths = 6\n",
      "{'train': 0.78379505837251129, 'dev': 0.7793146101495706}\n",
      "# of estimator = 10, # of depths = 8\n",
      "{'train': 0.80363690214410621, 'dev': 0.78389430216172828}\n",
      "# of estimator = 10, # of depths = 10\n",
      "{'train': 0.81606763738016741, 'dev': 0.78146912433466242}\n",
      "# of estimator = 10, # of depths = 20\n",
      "{'train': 0.91121782764639303, 'dev': 0.76176254689221268}\n",
      "# of estimator = 300, # of depths = 2\n",
      "{'train': 0.7563213370902292, 'dev': 0.76683959651107192}\n",
      "# of estimator = 300, # of depths = 4\n",
      "{'train': 0.77471239770545908, 'dev': 0.77886069563715488}\n",
      "# of estimator = 300, # of depths = 6\n",
      "{'train': 0.79320568640872202, 'dev': 0.78778259074604162}\n",
      "# of estimator = 300, # of depths = 8\n",
      "{'train': 0.81368250952605559, 'dev': 0.79134281814562746}\n",
      "# of estimator = 300, # of depths = 10\n",
      "{'train': 0.83631222158548901, 'dev': 0.79187729985108235}\n",
      "# of estimator = 300, # of depths = 20\n",
      "{'train': 0.9353540703965737, 'dev': 0.77936884819455754}\n",
      "# of estimator = 200, # of depths = 2\n",
      "{'train': 0.75640630565422728, 'dev': 0.76594493206026637}\n",
      "# of estimator = 200, # of depths = 4\n",
      "{'train': 0.77418174016638619, 'dev': 0.77742128111315423}\n",
      "# of estimator = 200, # of depths = 6\n",
      "{'train': 0.79236801689306868, 'dev': 0.78683684774801521}\n",
      "# of estimator = 200, # of depths = 8\n",
      "{'train': 0.81272919391686993, 'dev': 0.79062561215269223}\n",
      "# of estimator = 200, # of depths = 10\n",
      "{'train': 0.83551606231751419, 'dev': 0.79156872223591335}\n",
      "# of estimator = 200, # of depths = 20\n",
      "{'train': 0.93465527814815341, 'dev': 0.77935831653533683}\n",
      "# of estimator = 50, # of depths = 2\n",
      "{'train': 0.75417243531665656, 'dev': 0.76443205921320079}\n",
      "# of estimator = 50, # of depths = 4\n",
      "{'train': 0.76994454522210132, 'dev': 0.77570040799647821}\n",
      "# of estimator = 50, # of depths = 6\n",
      "{'train': 0.7886758442183035, 'dev': 0.78418023670957271}\n",
      "# of estimator = 50, # of depths = 8\n",
      "{'train': 0.81053634225825499, 'dev': 0.78925991924323702}\n",
      "# of estimator = 50, # of depths = 10\n",
      "{'train': 0.83032775472017029, 'dev': 0.78957560572838015}\n",
      "# of estimator = 50, # of depths = 20\n",
      "{'train': 0.93312593502743202, 'dev': 0.77239241383523005}\n",
      "# of estimator = 20, # of depths = 2\n",
      "{'train': 0.74657458528531628, 'dev': 0.75486536326852149}\n",
      "# of estimator = 20, # of depths = 4\n",
      "{'train': 0.77251752515320737, 'dev': 0.77772748910499845}\n",
      "# of estimator = 20, # of depths = 6\n",
      "{'train': 0.78610554060579774, 'dev': 0.78027615063642819}\n",
      "# of estimator = 20, # of depths = 8\n",
      "{'train': 0.80770771017894638, 'dev': 0.78382426662791027}\n",
      "# of estimator = 20, # of depths = 10\n",
      "{'train': 0.82363950709421052, 'dev': 0.78541796995949542}\n",
      "# of estimator = 20, # of depths = 20\n",
      "{'train': 0.92300968739943312, 'dev': 0.76482857618286326}\n",
      "# of estimator = 350, # of depths = 2\n",
      "{'train': 0.75657482269480303, 'dev': 0.76781482815491642}\n",
      "# of estimator = 350, # of depths = 4\n",
      "{'train': 0.77473069498568592, 'dev': 0.77866006752899897}\n",
      "# of estimator = 350, # of depths = 6\n",
      "{'train': 0.79339859982293326, 'dev': 0.78796952769721074}\n",
      "# of estimator = 350, # of depths = 8\n",
      "{'train': 0.81394908542364741, 'dev': 0.79193048473014716}\n",
      "# of estimator = 350, # of depths = 10\n",
      "{'train': 0.83684256961832937, 'dev': 0.79192311256869274}\n",
      "# of estimator = 350, # of depths = 20\n",
      "{'train': 0.93542403701141075, 'dev': 0.77926010881310315}\n",
      "# of estimator = 150, # of depths = 2\n",
      "{'train': 0.75761197808055003, 'dev': 0.76572508367403247}\n",
      "# of estimator = 150, # of depths = 4\n",
      "{'train': 0.77496282466020405, 'dev': 0.7784704976630249}\n",
      "# of estimator = 150, # of depths = 6\n",
      "{'train': 0.79205361317940171, 'dev': 0.78595376812235263}\n",
      "# of estimator = 150, # of depths = 8\n",
      "{'train': 0.81290604941947919, 'dev': 0.78959877537866585}\n",
      "# of estimator = 150, # of depths = 10\n",
      "{'train': 0.8352283671711036, 'dev': 0.7912485597956016}\n",
      "# of estimator = 150, # of depths = 20\n",
      "{'train': 0.93473037892520372, 'dev': 0.7768783740803229}\n",
      "# of estimator = 500, # of depths = 2\n",
      "{'train': 0.7563259432712216, 'dev': 0.76768081279133216}\n",
      "# of estimator = 500, # of depths = 4\n",
      "{'train': 0.77492213369372964, 'dev': 0.77887070071341458}\n",
      "# of estimator = 500, # of depths = 6\n",
      "{'train': 0.79300705623233037, 'dev': 0.78790581115892488}\n",
      "# of estimator = 500, # of depths = 8\n",
      "{'train': 0.8137588301217874, 'dev': 0.79172353762645886}\n",
      "# of estimator = 500, # of depths = 10\n",
      "{'train': 0.8367062776384514, 'dev': 0.7923159434576279}\n",
      "# of estimator = 500, # of depths = 20\n",
      "{'train': 0.93536219038361956, 'dev': 0.77871246253362236}\n",
      "# of estimator = 250, # of depths = 2\n",
      "{'train': 0.75634453185143213, 'dev': 0.76653575814255226}\n",
      "# of estimator = 250, # of depths = 4\n",
      "{'train': 0.77445658170101561, 'dev': 0.77847523690967413}\n",
      "# of estimator = 250, # of depths = 6\n",
      "{'train': 0.7928087173559224, 'dev': 0.78723020521991161}\n",
      "# of estimator = 250, # of depths = 8\n",
      "{'train': 0.81332796103338389, 'dev': 0.79086046815331568}\n",
      "# of estimator = 250, # of depths = 10\n",
      "{'train': 0.83610809312190482, 'dev': 0.79210215077544599}\n",
      "# of estimator = 250, # of depths = 20\n",
      "{'train': 0.93508571028658161, 'dev': 0.77893441725170032}\n",
      "# of estimator = 125, # of depths = 2\n",
      "{'train': 0.75875525769161223, 'dev': 0.76798228153652692}\n",
      "# of estimator = 125, # of depths = 4\n",
      "{'train': 0.77415843616768942, 'dev': 0.77857186488302488}\n",
      "# of estimator = 125, # of depths = 6\n",
      "{'train': 0.79119314944002306, 'dev': 0.78590110982624872}\n",
      "# of estimator = 125, # of depths = 8\n",
      "{'train': 0.81215635249890594, 'dev': 0.78984626937035418}\n",
      "# of estimator = 125, # of depths = 10\n",
      "{'train': 0.83349731701791252, 'dev': 0.79041761188308168}\n",
      "# of estimator = 125, # of depths = 20\n",
      "{'train': 0.93455523480999858, 'dev': 0.77475703462177659}\n",
      "# of estimator = 30, # of depths = 2\n",
      "{'train': 0.75139210441589654, 'dev': 0.76146134143849831}\n",
      "# of estimator = 30, # of depths = 4\n",
      "{'train': 0.77234125225056549, 'dev': 0.77752633441388164}\n",
      "# of estimator = 30, # of depths = 6\n",
      "{'train': 0.78933385446900417, 'dev': 0.78404358843118294}\n",
      "# of estimator = 30, # of depths = 8\n",
      "{'train': 0.81142380586487362, 'dev': 0.7873973953100416}\n",
      "# of estimator = 30, # of depths = 10\n",
      "{'train': 0.82637106345394828, 'dev': 0.78848294608422387}\n",
      "# of estimator = 30, # of depths = 20\n",
      "{'train': 0.92855185165198761, 'dev': 0.76711526269117591}\n"
     ]
    }
   ],
   "source": [
    "# Random Forest with RandomUnderSampler\n",
    "estim_set = {10, 20, 30, 40, 50, 70, 100, 125, 150, 200, 250, 300, 350, 500}\n",
    "depth_set = {2, 4, 6, 8, 10, 20}\n",
    "yhat_probs = {}\n",
    "auc_scores = {}\n",
    "for e in estim_set:\n",
    "    for d in depth_set:\n",
    "        rf = RandomForestClassifier(n_estimators=e, max_depth=d, random_state=0)\n",
    "        rf.fit(X_rus, y_rus)\n",
    "        yhat_probs['train'] = rf.predict_proba(X_train)[:,1]\n",
    "        yhat_probs['dev'] = rf.predict_proba(X_dev)[:,1]\n",
    "        auc_scores['dev'] = roc_auc_score(y_dev, yhat_probs['dev'])\n",
    "        auc_scores['train'] = roc_auc_score(y_train, yhat_probs['train'])\n",
    "        print(\"# of estimator = {}, # of depths = {}\".format(e, d))\n",
    "        print(auc_scores)"
   ]
  },
  {
   "cell_type": "markdown",
   "metadata": {},
   "source": [
    "## XGB"
   ]
  },
  {
   "cell_type": "code",
   "execution_count": 159,
   "metadata": {},
   "outputs": [
    {
     "name": "stdout",
     "output_type": "stream",
     "text": [
      "# of estimator = 100, # of depths = 2\n",
      "{'train': 0.7884071563958297, 'dev': 0.78904770630993837}\n",
      "# of estimator = 100, # of depths = 4\n",
      "{'train': 0.81255958450135535, 'dev': 0.78426975581294922}\n",
      "# of estimator = 100, # of depths = 6\n",
      "{'train': 0.84258434718472031, 'dev': 0.77651476854572532}\n",
      "# of estimator = 100, # of depths = 8\n",
      "{'train': 0.86349693687143381, 'dev': 0.77244375567393142}\n"
     ]
    },
    {
     "ename": "KeyboardInterrupt",
     "evalue": "",
     "output_type": "error",
     "traceback": [
      "\u001b[0;31m------------------------------------------------------------------\u001b[0m",
      "\u001b[0;31mKeyboardInterrupt\u001b[0m                Traceback (most recent call last)",
      "\u001b[0;32m<ipython-input-159-cb90e1297fb0>\u001b[0m in \u001b[0;36m<module>\u001b[0;34m()\u001b[0m\n\u001b[1;32m      9\u001b[0m     \u001b[0;32mfor\u001b[0m \u001b[0md\u001b[0m \u001b[0;32min\u001b[0m \u001b[0mdepth_set\u001b[0m\u001b[0;34m:\u001b[0m\u001b[0;34m\u001b[0m\u001b[0m\n\u001b[1;32m     10\u001b[0m         \u001b[0mxgb_model\u001b[0m \u001b[0;34m=\u001b[0m \u001b[0mxgb\u001b[0m\u001b[0;34m.\u001b[0m\u001b[0mXGBClassifier\u001b[0m\u001b[0;34m(\u001b[0m\u001b[0mn_estimators\u001b[0m\u001b[0;34m=\u001b[0m\u001b[0me\u001b[0m\u001b[0;34m,\u001b[0m \u001b[0mmax_depth\u001b[0m\u001b[0;34m=\u001b[0m\u001b[0md\u001b[0m\u001b[0;34m,\u001b[0m \u001b[0mlearning_rate\u001b[0m\u001b[0;34m=\u001b[0m\u001b[0;36m0.1\u001b[0m\u001b[0;34m,\u001b[0m \u001b[0msubsample\u001b[0m\u001b[0;34m=\u001b[0m\u001b[0;36m0.5\u001b[0m\u001b[0;34m)\u001b[0m\u001b[0;34m\u001b[0m\u001b[0m\n\u001b[0;32m---> 11\u001b[0;31m         \u001b[0mxgb_model\u001b[0m\u001b[0;34m.\u001b[0m\u001b[0mfit\u001b[0m\u001b[0;34m(\u001b[0m\u001b[0mX_rus\u001b[0m\u001b[0;34m,\u001b[0m \u001b[0my_rus\u001b[0m\u001b[0;34m,\u001b[0m \u001b[0meval_metric\u001b[0m\u001b[0;34m=\u001b[0m\u001b[0;34m'auc'\u001b[0m\u001b[0;34m)\u001b[0m\u001b[0;34m\u001b[0m\u001b[0m\n\u001b[0m\u001b[1;32m     12\u001b[0m         \u001b[0myhat_probs\u001b[0m\u001b[0;34m[\u001b[0m\u001b[0;34m'train'\u001b[0m\u001b[0;34m]\u001b[0m \u001b[0;34m=\u001b[0m \u001b[0mxgb_model\u001b[0m\u001b[0;34m.\u001b[0m\u001b[0mpredict_proba\u001b[0m\u001b[0;34m(\u001b[0m\u001b[0mX_train_matrix\u001b[0m\u001b[0;34m)\u001b[0m\u001b[0;34m[\u001b[0m\u001b[0;34m:\u001b[0m\u001b[0;34m,\u001b[0m\u001b[0;36m1\u001b[0m\u001b[0;34m]\u001b[0m\u001b[0;34m\u001b[0m\u001b[0m\n\u001b[1;32m     13\u001b[0m         \u001b[0myhat_probs\u001b[0m\u001b[0;34m[\u001b[0m\u001b[0;34m'dev'\u001b[0m\u001b[0;34m]\u001b[0m \u001b[0;34m=\u001b[0m \u001b[0mxgb_model\u001b[0m\u001b[0;34m.\u001b[0m\u001b[0mpredict_proba\u001b[0m\u001b[0;34m(\u001b[0m\u001b[0mX_dev_matrix\u001b[0m\u001b[0;34m)\u001b[0m\u001b[0;34m[\u001b[0m\u001b[0;34m:\u001b[0m\u001b[0;34m,\u001b[0m\u001b[0;36m1\u001b[0m\u001b[0;34m]\u001b[0m\u001b[0;34m\u001b[0m\u001b[0m\n",
      "\u001b[0;32m/usr/lib/python2.7/site-packages/xgboost/sklearn.pyc\u001b[0m in \u001b[0;36mfit\u001b[0;34m(self, X, y, sample_weight, eval_set, eval_metric, early_stopping_rounds, verbose, xgb_model, sample_weight_eval_set, callbacks)\u001b[0m\n\u001b[1;32m    698\u001b[0m                               \u001b[0mevals_result\u001b[0m\u001b[0;34m=\u001b[0m\u001b[0mevals_result\u001b[0m\u001b[0;34m,\u001b[0m \u001b[0mobj\u001b[0m\u001b[0;34m=\u001b[0m\u001b[0mobj\u001b[0m\u001b[0;34m,\u001b[0m \u001b[0mfeval\u001b[0m\u001b[0;34m=\u001b[0m\u001b[0mfeval\u001b[0m\u001b[0;34m,\u001b[0m\u001b[0;34m\u001b[0m\u001b[0m\n\u001b[1;32m    699\u001b[0m                               \u001b[0mverbose_eval\u001b[0m\u001b[0;34m=\u001b[0m\u001b[0mverbose\u001b[0m\u001b[0;34m,\u001b[0m \u001b[0mxgb_model\u001b[0m\u001b[0;34m=\u001b[0m\u001b[0mNone\u001b[0m\u001b[0;34m,\u001b[0m\u001b[0;34m\u001b[0m\u001b[0m\n\u001b[0;32m--> 700\u001b[0;31m                               callbacks=callbacks)\n\u001b[0m\u001b[1;32m    701\u001b[0m \u001b[0;34m\u001b[0m\u001b[0m\n\u001b[1;32m    702\u001b[0m         \u001b[0mself\u001b[0m\u001b[0;34m.\u001b[0m\u001b[0mobjective\u001b[0m \u001b[0;34m=\u001b[0m \u001b[0mxgb_options\u001b[0m\u001b[0;34m[\u001b[0m\u001b[0;34m\"objective\"\u001b[0m\u001b[0;34m]\u001b[0m\u001b[0;34m\u001b[0m\u001b[0m\n",
      "\u001b[0;32m/usr/lib/python2.7/site-packages/xgboost/training.pyc\u001b[0m in \u001b[0;36mtrain\u001b[0;34m(params, dtrain, num_boost_round, evals, obj, feval, maximize, early_stopping_rounds, evals_result, verbose_eval, xgb_model, callbacks, learning_rates)\u001b[0m\n\u001b[1;32m    214\u001b[0m                            \u001b[0mevals\u001b[0m\u001b[0;34m=\u001b[0m\u001b[0mevals\u001b[0m\u001b[0;34m,\u001b[0m\u001b[0;34m\u001b[0m\u001b[0m\n\u001b[1;32m    215\u001b[0m                            \u001b[0mobj\u001b[0m\u001b[0;34m=\u001b[0m\u001b[0mobj\u001b[0m\u001b[0;34m,\u001b[0m \u001b[0mfeval\u001b[0m\u001b[0;34m=\u001b[0m\u001b[0mfeval\u001b[0m\u001b[0;34m,\u001b[0m\u001b[0;34m\u001b[0m\u001b[0m\n\u001b[0;32m--> 216\u001b[0;31m                            xgb_model=xgb_model, callbacks=callbacks)\n\u001b[0m\u001b[1;32m    217\u001b[0m \u001b[0;34m\u001b[0m\u001b[0m\n\u001b[1;32m    218\u001b[0m \u001b[0;34m\u001b[0m\u001b[0m\n",
      "\u001b[0;32m/usr/lib/python2.7/site-packages/xgboost/training.pyc\u001b[0m in \u001b[0;36m_train_internal\u001b[0;34m(params, dtrain, num_boost_round, evals, obj, feval, xgb_model, callbacks)\u001b[0m\n\u001b[1;32m     72\u001b[0m         \u001b[0;31m# Skip the first update if it is a recovery step.\u001b[0m\u001b[0;34m\u001b[0m\u001b[0;34m\u001b[0m\u001b[0m\n\u001b[1;32m     73\u001b[0m         \u001b[0;32mif\u001b[0m \u001b[0mversion\u001b[0m \u001b[0;34m%\u001b[0m \u001b[0;36m2\u001b[0m \u001b[0;34m==\u001b[0m \u001b[0;36m0\u001b[0m\u001b[0;34m:\u001b[0m\u001b[0;34m\u001b[0m\u001b[0m\n\u001b[0;32m---> 74\u001b[0;31m             \u001b[0mbst\u001b[0m\u001b[0;34m.\u001b[0m\u001b[0mupdate\u001b[0m\u001b[0;34m(\u001b[0m\u001b[0mdtrain\u001b[0m\u001b[0;34m,\u001b[0m \u001b[0mi\u001b[0m\u001b[0;34m,\u001b[0m \u001b[0mobj\u001b[0m\u001b[0;34m)\u001b[0m\u001b[0;34m\u001b[0m\u001b[0m\n\u001b[0m\u001b[1;32m     75\u001b[0m             \u001b[0mbst\u001b[0m\u001b[0;34m.\u001b[0m\u001b[0msave_rabit_checkpoint\u001b[0m\u001b[0;34m(\u001b[0m\u001b[0;34m)\u001b[0m\u001b[0;34m\u001b[0m\u001b[0m\n\u001b[1;32m     76\u001b[0m             \u001b[0mversion\u001b[0m \u001b[0;34m+=\u001b[0m \u001b[0;36m1\u001b[0m\u001b[0;34m\u001b[0m\u001b[0m\n",
      "\u001b[0;32m/usr/lib/python2.7/site-packages/xgboost/core.pyc\u001b[0m in \u001b[0;36mupdate\u001b[0;34m(self, dtrain, iteration, fobj)\u001b[0m\n\u001b[1;32m   1043\u001b[0m         \u001b[0;32mif\u001b[0m \u001b[0mfobj\u001b[0m \u001b[0;32mis\u001b[0m \u001b[0mNone\u001b[0m\u001b[0;34m:\u001b[0m\u001b[0;34m\u001b[0m\u001b[0m\n\u001b[1;32m   1044\u001b[0m             _check_call(_LIB.XGBoosterUpdateOneIter(self.handle, ctypes.c_int(iteration),\n\u001b[0;32m-> 1045\u001b[0;31m                                                     dtrain.handle))\n\u001b[0m\u001b[1;32m   1046\u001b[0m         \u001b[0;32melse\u001b[0m\u001b[0;34m:\u001b[0m\u001b[0;34m\u001b[0m\u001b[0m\n\u001b[1;32m   1047\u001b[0m             \u001b[0mpred\u001b[0m \u001b[0;34m=\u001b[0m \u001b[0mself\u001b[0m\u001b[0;34m.\u001b[0m\u001b[0mpredict\u001b[0m\u001b[0;34m(\u001b[0m\u001b[0mdtrain\u001b[0m\u001b[0;34m)\u001b[0m\u001b[0;34m\u001b[0m\u001b[0m\n",
      "\u001b[0;31mKeyboardInterrupt\u001b[0m: "
     ]
    }
   ],
   "source": [
    "# xgb with rus\n",
    "estim_set = {10, 20, 30, 40, 50, 70, 100, 125, 150, 200, 250, 300, 350, 500}\n",
    "depth_set = {2, 4, 6, 8, 10, 20}\n",
    "yhat_probs = {}\n",
    "auc_scores = {}\n",
    "X_train_matrix = X_train.as_matrix()\n",
    "X_dev_matrix = X_dev.as_matrix()\n",
    "for e in estim_set:\n",
    "    for d in depth_set:\n",
    "        xgb_model = xgb.XGBClassifier(n_estimators=e, max_depth=d, learning_rate=0.1, subsample=0.5)\n",
    "        xgb_model.fit(X_rus, y_rus, eval_metric='auc')\n",
    "        yhat_probs['train'] = xgb_model.predict_proba(X_train_matrix)[:,1]\n",
    "        yhat_probs['dev'] = xgb_model.predict_proba(X_dev_matrix)[:,1]\n",
    "        auc_scores['dev'] = roc_auc_score(y_dev, yhat_probs['dev'])\n",
    "        auc_scores['train'] = roc_auc_score(y_train, yhat_probs['train'])\n",
    "        print(\"# of estimator = {}, # of depths = {}\".format(e, d))\n",
    "        print(auc_scores)"
   ]
  },
  {
   "cell_type": "markdown",
   "metadata": {},
   "source": [
    "## Sub"
   ]
  },
  {
   "cell_type": "code",
   "execution_count": 155,
   "metadata": {},
   "outputs": [],
   "source": [
    "rus = RandomUnderSampler(return_indices=True)\n",
    "X_rus_all, y_rus_all, id_rus = rus.fit_sample(X, y)"
   ]
  },
  {
   "cell_type": "code",
   "execution_count": 156,
   "metadata": {},
   "outputs": [],
   "source": [
    "rf = RandomForestClassifier(n_estimators=250, max_depth=10, random_state=0)\n",
    "rf.fit(X_rus_all, y_rus_all)\n",
    "X_test = df_test.drop(['y', 'id'], axis = 'columns')\n",
    "ypred = rf.predict_proba(X_test)[:, 1]"
   ]
  },
  {
   "cell_type": "code",
   "execution_count": 157,
   "metadata": {},
   "outputs": [],
   "source": [
    "df_sub_1 = df_test[['id']].copy()\n",
    "df_sub_1['y']=ypred\n",
    "df_sub_1.to_csv('df_sub_6_rf_rus.csv', index=False)"
   ]
  },
  {
   "cell_type": "code",
   "execution_count": 160,
   "metadata": {},
   "outputs": [
    {
     "data": {
      "text/plain": [
       "XGBClassifier(base_score=0.5, booster='gbtree', colsample_bylevel=1,\n",
       "       colsample_bytree=1, gamma=0, learning_rate=0.1, max_delta_step=0,\n",
       "       max_depth=2, min_child_weight=1, missing=None, n_estimators=100,\n",
       "       n_jobs=1, nthread=None, objective='binary:logistic', random_state=0,\n",
       "       reg_alpha=0, reg_lambda=1, scale_pos_weight=1, seed=None,\n",
       "       silent=True, subsample=0.5)"
      ]
     },
     "execution_count": 160,
     "metadata": {},
     "output_type": "execute_result"
    }
   ],
   "source": [
    "xgb_model = xgb.XGBClassifier(n_estimators=100, max_depth=2, learning_rate=0.1, subsample=0.5)\n",
    "xgb_model.fit(X_rus, y_rus, eval_metric='auc')"
   ]
  },
  {
   "cell_type": "code",
   "execution_count": 161,
   "metadata": {},
   "outputs": [],
   "source": [
    "ypred = rf.predict_proba(X_test)[:, 1]"
   ]
  },
  {
   "cell_type": "code",
   "execution_count": 162,
   "metadata": {},
   "outputs": [],
   "source": [
    "df_sub_1 = df_test[['id']].copy()\n",
    "df_sub_1['y']=ypred\n",
    "df_sub_1.to_csv('df_sub_7_xgb_rus.csv', index=False)"
   ]
  },
  {
   "cell_type": "code",
   "execution_count": null,
   "metadata": {},
   "outputs": [],
   "source": []
  }
 ],
 "metadata": {
  "kernelspec": {
   "display_name": "Python 3",
   "language": "python",
   "name": "python3"
  },
  "language_info": {
   "codemirror_mode": {
    "name": "ipython",
    "version": 2
   },
   "file_extension": ".py",
   "mimetype": "text/x-python",
   "name": "python",
   "nbconvert_exporter": "python",
   "pygments_lexer": "ipython2",
   "version": "2.7.13"
  }
 },
 "nbformat": 4,
 "nbformat_minor": 2
}
