{
 "cells": [
  {
   "cell_type": "code",
   "execution_count": 4,
   "metadata": {},
   "outputs": [],
   "source": [
    "import numpy as np\n",
    "import pandas as pd\n",
    "\n",
    "from sklearn.model_selection import cross_val_score\n",
    "from sklearn.pipeline import Pipeline\n",
    "from sklearn.ensemble import ExtraTreesClassifier, RandomForestClassifier \n",
    "from sklearn.ensemble import GradientBoostingClassifier, VotingClassifier, AdaBoostClassifier\n",
    "from sklearn.feature_extraction import text\n",
    "from sklearn.feature_extraction.text import CountVectorizer, TfidfTransformer, TfidfVectorizer\n",
    "from sklearn.model_selection import train_test_split\n",
    "from sklearn.naive_bayes import GaussianNB\n",
    "from sklearn.linear_model import LogisticRegression, SGDClassifier\n",
    "\n",
    "from nltk.corpus import stopwords\n",
    "from nltk.stem.snowball import SnowballStemmer\n",
    "\n",
    "from sklearn import metrics\n",
    "from sklearn.metrics import accuracy_score\n",
    "\n",
    "import nltk\n",
    "from nltk.stem import WordNetLemmatizer\n",
    "\n",
    "import xgboost as xgb"
   ]
  },
  {
   "cell_type": "markdown",
   "metadata": {},
   "source": [
    "### Data import"
   ]
  },
  {
   "cell_type": "code",
   "execution_count": 5,
   "metadata": {},
   "outputs": [],
   "source": [
    "train = pd.read_json('cooking_train.json')\n",
    "test = pd.read_json('cooking_test.json')"
   ]
  },
  {
   "cell_type": "markdown",
   "metadata": {},
   "source": [
    "### Overview"
   ]
  },
  {
   "cell_type": "code",
   "execution_count": 3,
   "metadata": {},
   "outputs": [
    {
     "data": {
      "text/html": [
       "<div>\n",
       "<style scoped>\n",
       "    .dataframe tbody tr th:only-of-type {\n",
       "        vertical-align: middle;\n",
       "    }\n",
       "\n",
       "    .dataframe tbody tr th {\n",
       "        vertical-align: top;\n",
       "    }\n",
       "\n",
       "    .dataframe thead th {\n",
       "        text-align: right;\n",
       "    }\n",
       "</style>\n",
       "<table border=\"1\" class=\"dataframe\">\n",
       "  <thead>\n",
       "    <tr style=\"text-align: right;\">\n",
       "      <th></th>\n",
       "      <th>cuisine</th>\n",
       "      <th>id</th>\n",
       "      <th>ingredients</th>\n",
       "    </tr>\n",
       "  </thead>\n",
       "  <tbody>\n",
       "    <tr>\n",
       "      <th>0</th>\n",
       "      <td>chinese</td>\n",
       "      <td>29565</td>\n",
       "      <td>[romaine lettuce, sliced almonds, vegetable oi...</td>\n",
       "    </tr>\n",
       "    <tr>\n",
       "      <th>1</th>\n",
       "      <td>italian</td>\n",
       "      <td>15528</td>\n",
       "      <td>[pistachios, dried fig, bread ciabatta, extra-...</td>\n",
       "    </tr>\n",
       "    <tr>\n",
       "      <th>2</th>\n",
       "      <td>cajun_creole</td>\n",
       "      <td>38015</td>\n",
       "      <td>[olive oil, lemon, chili sauce, shrimp, butter...</td>\n",
       "    </tr>\n",
       "    <tr>\n",
       "      <th>3</th>\n",
       "      <td>italian</td>\n",
       "      <td>20511</td>\n",
       "      <td>[fresh basil, olive oil, potato gnocchi, garli...</td>\n",
       "    </tr>\n",
       "    <tr>\n",
       "      <th>4</th>\n",
       "      <td>chinese</td>\n",
       "      <td>44111</td>\n",
       "      <td>[honey, portabello mushroom, tamari soy sauce,...</td>\n",
       "    </tr>\n",
       "  </tbody>\n",
       "</table>\n",
       "</div>"
      ],
      "text/plain": [
       "        cuisine     id                                        ingredients\n",
       "0       chinese  29565  [romaine lettuce, sliced almonds, vegetable oi...\n",
       "1       italian  15528  [pistachios, dried fig, bread ciabatta, extra-...\n",
       "2  cajun_creole  38015  [olive oil, lemon, chili sauce, shrimp, butter...\n",
       "3       italian  20511  [fresh basil, olive oil, potato gnocchi, garli...\n",
       "4       chinese  44111  [honey, portabello mushroom, tamari soy sauce,..."
      ]
     },
     "execution_count": 3,
     "metadata": {},
     "output_type": "execute_result"
    }
   ],
   "source": [
    "train.head()"
   ]
  },
  {
   "cell_type": "code",
   "execution_count": 4,
   "metadata": {},
   "outputs": [
    {
     "name": "stdout",
     "output_type": "stream",
     "text": [
      "train shape=  (30000, 3)\n",
      "test shape =  (9774, 2)\n",
      "set of cuisines =  [u'brazilian', u'british', u'cajun_creole', u'chinese', u'filipino', u'french', u'greek', u'indian', u'irish', u'italian', u'jamaican', u'japanese', u'korean', u'mexican', u'moroccan', u'russian', u'southern_us', u'spanish', u'thai', u'vietnamese']\n",
      "# of cuisines =  20\n",
      "type of cuisines <type 'unicode'>\n",
      "type of ingredients column: <type 'list'>\n",
      "type of ingredient entry: <type 'unicode'>\n"
     ]
    }
   ],
   "source": [
    "print 'train shape= ', train.shape\n",
    "print 'test shape = ', test.shape\n",
    "print 'set of cuisines = ', sorted(set(train.cuisine))\n",
    "print '# of cuisines = ', len(set(train['cuisine']))\n",
    "print 'type of cuisines', type(train['cuisine'][0])\n",
    "print 'type of ingredients column:', type(train['ingredients'][0])\n",
    "print 'type of ingredient entry:', type(train['ingredients'][0][0])"
   ]
  },
  {
   "cell_type": "markdown",
   "metadata": {},
   "source": [
    "##### Overview conclusions\n",
    "\n",
    "Train set consists of 30k examples. Each example defines some recipe and is represented by a list of ingredients ('ingredients', list of unicode entries) and labelled by cuisine origin ('cuisine', unicode entry).\n",
    "\n",
    "Test set consists of 9,774 examples so ca. 1/3 of train set.\n",
    "\n",
    "This is a multi-class classification problem: we are supposed to predict one of 20 cuisine origins given test set ingredients' lists.\n",
    "\n",
    "To properly transform the representation of ingredients seems to be the major challenge."
   ]
  },
  {
   "cell_type": "markdown",
   "metadata": {},
   "source": [
    "### First round problem inspection"
   ]
  },
  {
   "cell_type": "markdown",
   "metadata": {},
   "source": [
    "#### Target data inspection"
   ]
  },
  {
   "cell_type": "code",
   "execution_count": 5,
   "metadata": {},
   "outputs": [
    {
     "data": {
      "text/plain": [
       "<matplotlib.axes._subplots.AxesSubplot at 0x7f603be6e310>"
      ]
     },
     "execution_count": 5,
     "metadata": {},
     "output_type": "execute_result"
    },
    {
     "data": {
      "image/png": "[encoded data removed]",
      "text/plain": [
       "<matplotlib.figure.Figure at 0x7f603c212750>"
      ]
     },
     "metadata": {},
     "output_type": "display_data"
    }
   ],
   "source": [
    "# Labels countplot\n",
    "sns.set(rc={'figure.figsize':(12,8)})\n",
    "order = train['cuisine'].value_counts(ascending=True).index\n",
    "sns.countplot(y='cuisine', data = train, palette=\"cubehelix\", order=order)"
   ]
  },
  {
   "cell_type": "markdown",
   "metadata": {},
   "source": [
    "##### Target data inspection conclusions\n",
    "Certain sort of cuisines (like Italian or Mexican) are overrepresented in the train set.  This most likely reflects the non-uniform popularity of cuisines."
   ]
  },
  {
   "cell_type": "markdown",
   "metadata": {},
   "source": [
    "#### Ingredients data inspection\n",
    "Some first-glance observations:\n",
    "* ingredient lists are of varying length\n",
    "* each ingredient is an English phrase (mostly noun with some attributives)\n",
    "* some attributives of ingredients link with \"national origins\" (be it true or not)\n",
    "  * 'Italian bread' appears mostly in Italian cuisine but also in Cajun-Creole, Spanish etc\n",
    "  * 'french fries' appears in Korean, British, Vietnamese etc recipes but quite infrequent in French (if at all - to be checked eventually)\n",
    "  * some ingredients are very popular, other are rare and peculiar\n",
    "  \n",
    "Few examples of peculiar ingredients:\n",
    "* \"cura\\u00e7ao\"\n",
    "* \"Ni\\u00e7oise olives\"\n",
    "* \"kahl\\u00faa\"\n",
    "* \"Country Crock\\u00ae Spread\"\n",
    "* \"I Can't Believe It's Not Butter!\\u00ae Spread\"\n",
    "* \"Spring! Water\"\n",
    "* \"Truv\\u00eda\\u00ae natural sweetener\",\n",
    "* \"2 1/2 to 3 lb. chicken, cut into serving pieces\",\n",
    "\n",
    "\n",
    " \n",
    "It seems that we can one-hot encode at following different levels:\n",
    " 1. phrase level: simply one-hot encode each ingredient \n",
    " 2. token level: one-hot encode each token\n",
    " 3. (optionally) mixed level: some more fancy way\n",
    "  "
   ]
  },
  {
   "cell_type": "markdown",
   "metadata": {},
   "source": [
    "#### General idea"
   ]
  },
  {
   "cell_type": "markdown",
   "metadata": {},
   "source": [
    "My presumption is that:\n",
    "* super-popular ingredients are meaningless wrt prediction\n",
    "* some tokens (like adjectives, numbers) are meaningless wrt predictions\n",
    "* super-rare ingredients are ignorable wrt overall score\n",
    "* there is a subset of ingredients that really makes a difference here"
   ]
  },
  {
   "cell_type": "code",
   "execution_count": null,
   "metadata": {},
   "outputs": [],
   "source": []
  },
  {
   "cell_type": "markdown",
   "metadata": {},
   "source": [
    "##### Number of different ingredients"
   ]
  },
  {
   "cell_type": "code",
   "execution_count": 6,
   "metadata": {
    "scrolled": true
   },
   "outputs": [
    {
     "name": "stdout",
     "output_type": "stream",
     "text": [
      "('# of different ingredients = ', 6251)\n"
     ]
    }
   ],
   "source": [
    "# First let's check how many different ingredients there are\n",
    "set_of_ingredients = set()\n",
    "for i in range(train.shape[0]):\n",
    "    set_of_ingredients = set_of_ingredients | set(train['ingredients'][i])\n",
    "\n",
    "print('# of different ingredients = ', len(set_of_ingredients))"
   ]
  },
  {
   "cell_type": "markdown",
   "metadata": {},
   "source": [
    "Oooops ... 6251 is quite a LOT of different ingredients. Fortunately we have 30k training examples."
   ]
  },
  {
   "cell_type": "markdown",
   "metadata": {},
   "source": [
    "##### Cuisine vs recipe length"
   ]
  },
  {
   "cell_type": "code",
   "execution_count": 7,
   "metadata": {},
   "outputs": [],
   "source": [
    "train.assign(length=0)\n",
    "train['length'] = train.apply(lambda row: len(row['ingredients']) , axis = 1)"
   ]
  },
  {
   "cell_type": "code",
   "execution_count": 9,
   "metadata": {},
   "outputs": [
    {
     "data": {
      "text/html": [
       "<div>\n",
       "<style scoped>\n",
       "    .dataframe tbody tr th:only-of-type {\n",
       "        vertical-align: middle;\n",
       "    }\n",
       "\n",
       "    .dataframe tbody tr th {\n",
       "        vertical-align: top;\n",
       "    }\n",
       "\n",
       "    .dataframe thead th {\n",
       "        text-align: right;\n",
       "    }\n",
       "</style>\n",
       "<table border=\"1\" class=\"dataframe\">\n",
       "  <thead>\n",
       "    <tr style=\"text-align: right;\">\n",
       "      <th></th>\n",
       "      <th>cuisine</th>\n",
       "      <th>id</th>\n",
       "      <th>ingredients</th>\n",
       "      <th>length</th>\n",
       "    </tr>\n",
       "  </thead>\n",
       "  <tbody>\n",
       "    <tr>\n",
       "      <th>0</th>\n",
       "      <td>chinese</td>\n",
       "      <td>29565</td>\n",
       "      <td>[romaine lettuce, sliced almonds, vegetable oi...</td>\n",
       "      <td>17</td>\n",
       "    </tr>\n",
       "    <tr>\n",
       "      <th>1</th>\n",
       "      <td>italian</td>\n",
       "      <td>15528</td>\n",
       "      <td>[pistachios, dried fig, bread ciabatta, extra-...</td>\n",
       "      <td>8</td>\n",
       "    </tr>\n",
       "    <tr>\n",
       "      <th>2</th>\n",
       "      <td>cajun_creole</td>\n",
       "      <td>38015</td>\n",
       "      <td>[olive oil, lemon, chili sauce, shrimp, butter...</td>\n",
       "      <td>15</td>\n",
       "    </tr>\n",
       "    <tr>\n",
       "      <th>3</th>\n",
       "      <td>italian</td>\n",
       "      <td>20511</td>\n",
       "      <td>[fresh basil, olive oil, potato gnocchi, garli...</td>\n",
       "      <td>19</td>\n",
       "    </tr>\n",
       "    <tr>\n",
       "      <th>4</th>\n",
       "      <td>chinese</td>\n",
       "      <td>44111</td>\n",
       "      <td>[honey, portabello mushroom, tamari soy sauce,...</td>\n",
       "      <td>14</td>\n",
       "    </tr>\n",
       "  </tbody>\n",
       "</table>\n",
       "</div>"
      ],
      "text/plain": [
       "        cuisine     id                                        ingredients  \\\n",
       "0       chinese  29565  [romaine lettuce, sliced almonds, vegetable oi...   \n",
       "1       italian  15528  [pistachios, dried fig, bread ciabatta, extra-...   \n",
       "2  cajun_creole  38015  [olive oil, lemon, chili sauce, shrimp, butter...   \n",
       "3       italian  20511  [fresh basil, olive oil, potato gnocchi, garli...   \n",
       "4       chinese  44111  [honey, portabello mushroom, tamari soy sauce,...   \n",
       "\n",
       "   length  \n",
       "0      17  \n",
       "1       8  \n",
       "2      15  \n",
       "3      19  \n",
       "4      14  "
      ]
     },
     "execution_count": 9,
     "metadata": {},
     "output_type": "execute_result"
    }
   ],
   "source": [
    "train.head()"
   ]
  },
  {
   "cell_type": "code",
   "execution_count": 9,
   "metadata": {},
   "outputs": [
    {
     "data": {
      "text/plain": [
       "<matplotlib.axes._subplots.AxesSubplot at 0x7f0ac8b78e10>"
      ]
     },
     "execution_count": 9,
     "metadata": {},
     "output_type": "execute_result"
    },
    {
     "data": {
      "image/png": "[encoded data removed]",
      "text/plain": [
       "<matplotlib.figure.Figure at 0x7f0aca234690>"
      ]
     },
     "metadata": {},
     "output_type": "display_data"
    }
   ],
   "source": [
    "sns.violinplot(y=train['cuisine'], x=train['length'])"
   ]
  },
  {
   "cell_type": "markdown",
   "metadata": {},
   "source": [
    "We can observe there are some differences across cuisines wrt recipe ingredients list length. It might be beneficiary to add 'length' column to our model."
   ]
  },
  {
   "cell_type": "markdown",
   "metadata": {},
   "source": [
    "##### Remarks\n",
    "In my experiments adding 'length' column didn't make a difference. So I skip it in further considerations."
   ]
  },
  {
   "cell_type": "markdown",
   "metadata": {},
   "source": [
    "### Preprocessors"
   ]
  },
  {
   "cell_type": "markdown",
   "metadata": {},
   "source": [
    "##### Unusual reqierements"
   ]
  },
  {
   "cell_type": "code",
   "execution_count": null,
   "metadata": {},
   "outputs": [],
   "source": [
    "nltk.download('wordnet')"
   ]
  },
  {
   "cell_type": "markdown",
   "metadata": {},
   "source": [
    "##### Default  prepocessor"
   ]
  },
  {
   "cell_type": "code",
   "execution_count": 10,
   "metadata": {},
   "outputs": [
    {
     "name": "stdout",
     "output_type": "stream",
     "text": [
      "('# tokens is ', 2866)\n"
     ]
    }
   ],
   "source": [
    "# default token-based preporcessor\n",
    "def default_preprocessor(line):\n",
    "    return ' '.join(line).lower()\n",
    "\n",
    "# create vecotrizer\n",
    "# vectorizer = CountVectorizer(preprocessor=token_preprocessor)\n",
    "# term_matrix = vectorizer.fit_transform(train['ingredients']).todense()\n",
    "# print(\"# tokens is \", len(vectorizer.get_feature_names()))"
   ]
  },
  {
   "cell_type": "markdown",
   "metadata": {},
   "source": [
    "There are 2866 different tokens which is ca 45% of # different ingredients."
   ]
  },
  {
   "cell_type": "markdown",
   "metadata": {},
   "source": [
    "##### Phrase-level preprocessor"
   ]
  },
  {
   "cell_type": "code",
   "execution_count": 1,
   "metadata": {},
   "outputs": [],
   "source": [
    "def phrase_preprocessor(line):\n",
    "    return ' '.join([el.replace(' ','') for el in line ]).lower()\n",
    "\n",
    "# # create vecotrizer\n",
    "# vectorizer = CountVectorizer(preprocessor=phrase_preprocessor)\n",
    "# term_matrix = vectorizer.fit_transform(train['ingredients']).todense()\n",
    "# print(\"# phrasess is \", len(vectorizer.get_feature_names()))"
   ]
  },
  {
   "cell_type": "markdown",
   "metadata": {},
   "source": [
    "There are 6315 different phrases which is somehow approximately in line with our previous calculations of different ingredients - I guess some typos make a difference here."
   ]
  },
  {
   "cell_type": "markdown",
   "metadata": {},
   "source": [
    "##### Hand-crafted preprocessor"
   ]
  },
  {
   "cell_type": "code",
   "execution_count": 2,
   "metadata": {},
   "outputs": [],
   "source": [
    "def remove_special(word):\n",
    "    word = word.replace('&', '').replace('(', '').replace(')','')\n",
    "    word = word.replace('\\'', '').replace('\\\\', '').replace(',','')\n",
    "    word = word.replace('.', '').replace('%', '').replace('/','')\n",
    "    word = word.replace('\"', '')\n",
    "\n",
    "    return word"
   ]
  },
  {
   "cell_type": "code",
   "execution_count": 10,
   "metadata": {},
   "outputs": [],
   "source": [
    "# default token-based preporcessor\n",
    "stemmer = SnowballStemmer(\"english\")\n",
    "def token_preprocessor(line):\n",
    "    # transform to lowercase\n",
    "    line = [ word.lower() for word in line ]\n",
    "    # remove special characters\n",
    "    line = [ remove_special(word) for word in line ]\n",
    "    # remove digits and stem\n",
    "    line = [ stemmer.stem(word) for word in line if not word.isdigit() ]\n",
    "    return ' '.join(line).lower()"
   ]
  },
  {
   "cell_type": "markdown",
   "metadata": {},
   "source": [
    "I want to remove the following tokens:"
   ]
  },
  {
   "cell_type": "code",
   "execution_count": 7,
   "metadata": {},
   "outputs": [],
   "source": [
    "popular_nouns = [\"salt\", \"onion\", \"olive oil\", \"water\", \"garlic\", \n",
    "                         \"sugar\", \"garlic cloves\", \"butter\", \"pepper\"]\n",
    "popular_adjectives = [\"unsalted\", \"fresh\", \"large\", \"ground\", \"light\", \"brown\", \"dark\"]\n",
    "popular_colors = [\"red\", \"green\", \"yellow\", \"white\"]\n",
    "misc = [\"heavy\", \"juice\", \"milk\", \"oil\", \"eggs\", \"chicken\", \n",
    "        \"tomato\", \"powder\", \"all-purpose flour\", \"double\", \n",
    "        \"instant\", \"better\", \"lesser\", \"powdered\", \"sliced\", \"diced\", \"seeds\", \n",
    "        \"seed\", \"crispy\", \"style\", \"plain\", \"fat\", \"fish\", \"gold\", \"golden\", \"potatoes\"]"
   ]
  },
  {
   "cell_type": "code",
   "execution_count": 8,
   "metadata": {},
   "outputs": [],
   "source": [
    "my_stop_words = text.ENGLISH_STOP_WORDS.union(popular_nouns, popular_adjectives, \n",
    "                                              popular_colors, misc)"
   ]
  },
  {
   "cell_type": "code",
   "execution_count": 11,
   "metadata": {},
   "outputs": [],
   "source": [
    "# Vectorizers definitions\n",
    "tfidf_vectorizer = TfidfVectorizer(preprocessor=token_preprocessor, \n",
    "                                   stop_words=my_stop_words, min_df = 20)\n",
    "count_vectorizer = CountVectorizer(preprocessor=token_preprocessor, \n",
    "                                   stop_words=my_stop_words, min_df = 20)"
   ]
  },
  {
   "cell_type": "code",
   "execution_count": 13,
   "metadata": {},
   "outputs": [],
   "source": [
    "# split train set into X and y\n",
    "X = train['ingredients']\n",
    "y = train['cuisine']"
   ]
  },
  {
   "cell_type": "code",
   "execution_count": 14,
   "metadata": {},
   "outputs": [],
   "source": [
    "# Vectorizers fitting\n",
    "tfidf_matrix = tfidf_vectorizer.fit_transform(X).todense()\n",
    "count_matric = count_vectorizer.fit_transform(X).todense()"
   ]
  },
  {
   "cell_type": "code",
   "execution_count": 15,
   "metadata": {},
   "outputs": [
    {
     "name": "stdout",
     "output_type": "stream",
     "text": [
      "count vectorizer length =  977\n",
      "tfidf vectorizer length =  977\n"
     ]
    }
   ],
   "source": [
    "print \"count vectorizer length = \", len(count_vectorizer.vocabulary_)\n",
    "print \"tfidf vectorizer length = \", len(tfidf_vectorizer.vocabulary_)"
   ]
  },
  {
   "cell_type": "markdown",
   "metadata": {},
   "source": [
    "### Model 1\n",
    "#### Soft voting with dominating Extra Tree Classifier + RF + SGD + Ada"
   ]
  },
  {
   "cell_type": "code",
   "execution_count": 16,
   "metadata": {},
   "outputs": [],
   "source": [
    "# Pipelines\n",
    "pipelines = {}\n",
    "\n",
    "pipelines['etc'] = Pipeline([\n",
    "        ('vectorizer', TfidfVectorizer(preprocessor=token_preprocessor, \n",
    "                                   stop_words=my_stop_words, min_df = 10)),\n",
    "        ('classifier', ExtraTreesClassifier(n_estimators=300))        \n",
    "    ])\n",
    "\n",
    "pipelines['rfc'] = Pipeline([\n",
    "        ('vectorizer', TfidfVectorizer(preprocessor=token_preprocessor, \n",
    "                                   stop_words=my_stop_words, min_df = 10)),\n",
    "        ('classifier', RandomForestClassifier(n_estimators=300))        \n",
    "    ])\n",
    "\n",
    "pipelines['sgd'] = Pipeline([\n",
    "        ('vectorizer', TfidfVectorizer(preprocessor=token_preprocessor, \n",
    "                                   stop_words=my_stop_words, min_df = 10)),\n",
    "        ('classifier', SGDClassifier(max_iter = 10, loss='log'))        \n",
    "    ])\n",
    "\n",
    "pipelines['ada'] = Pipeline([\n",
    "        ('vectorizer', TfidfVectorizer(preprocessor=token_preprocessor, \n",
    "                                   stop_words=my_stop_words, min_df = 10)),\n",
    "        ('classifier', AdaBoostClassifier(n_estimators=200))        \n",
    "    ])"
   ]
  },
  {
   "cell_type": "code",
   "execution_count": 17,
   "metadata": {},
   "outputs": [],
   "source": [
    "clf_list = [('etc', pipelines['etc']), ('rfc', pipelines['rfc']), \n",
    "            ('sgd', pipelines['sgd']), ('ada', pipelines['ada'])]\n",
    "votc = VotingClassifier(estimators= clf_list, voting='soft', weights=[2,1,1,1])"
   ]
  },
  {
   "cell_type": "code",
   "execution_count": 18,
   "metadata": {
    "scrolled": true
   },
   "outputs": [
    {
     "name": "stderr",
     "output_type": "stream",
     "text": [
      "/usr/lib64/python2.7/site-packages/sklearn/linear_model/stochastic_gradient.py:183: FutureWarning: max_iter and tol parameters have been added in SGDClassifier in 0.19. If max_iter is set but tol is left unset, the default value for tol in 0.19 and 0.20 will be None (which is equivalent to -infinity, so it has no effect) but will change in 0.21 to 1e-3. Specify tol to silence this warning.\n",
      "  FutureWarning)\n"
     ]
    },
    {
     "name": "stdout",
     "output_type": "stream",
     "text": [
      "[ 0.75143314  0.75156688]\n"
     ]
    }
   ],
   "source": [
    "voting_scores = {}\n",
    "voting_scores = cross_val_score(votc, X, y, cv=2)\n",
    "print voting_scores"
   ]
  },
  {
   "cell_type": "markdown",
   "metadata": {},
   "source": [
    "### Model 2\n",
    "##### Pure SGD with modified hubner loss\n",
    "Modified Hubner loss seemed to make a difference."
   ]
  },
  {
   "cell_type": "code",
   "execution_count": null,
   "metadata": {},
   "outputs": [],
   "source": [
    "sgd_pipeline = Pipeline([\n",
    "        ('vectorizer', TfidfVectorizer(preprocessor=token_preprocessor, min_df=2, \n",
    "                                       max_df=7000, sublinear_tf=True)),\n",
    "        ('classifier', SGDClassifier(max_iter = 900, loss=\"modified_huber\", \n",
    "                                     penalty=\"l2\", alpha=0.00008))        \n",
    "    ])"
   ]
  },
  {
   "cell_type": "code",
   "execution_count": null,
   "metadata": {},
   "outputs": [],
   "source": [
    "score = cross_val_score(sgd_pipeline, X_train, y_train, cv = 5)\n",
    "print score, \" => \", score.mean()\n",
    "scores['SGD, tfidf, tokenprep: sublinear, loss = modified_hub, maxiter = 900, alpha = 0.00008, mindf=2, maxdf=7000'] = score.mean()"
   ]
  },
  {
   "cell_type": "markdown",
   "metadata": {},
   "source": [
    "### Model 3\n",
    "##### SGD with modified hubner loss + Extra Tree\n",
    "\n",
    "This model was most successful on CV-train basis but has not been submitted as I wrongly presumed daily sub limit is 10 (instead of just 2). The CV-train results yielded: \n",
    "* 0.789667793597 for [1,1] weights\n",
    "* 0.789368017 for [3,2]"
   ]
  },
  {
   "cell_type": "code",
   "execution_count": null,
   "metadata": {},
   "outputs": [],
   "source": [
    "pipelines = {}\n",
    "\n",
    "pipelines['sgd_huber'] = Pipeline([\n",
    "        ('vectorizer', TfidfVectorizer(preprocessor=phrase_preprocessor, min_df=2, \n",
    "                                       max_df=7000)),\n",
    "        ('classifier', SGDClassifier(max_iter = 900, loss=\"modified_huber\", \n",
    "                                     penalty=\"l2\", alpha=0.00008))        \n",
    "    ])\n",
    "\n",
    "pipelines['etc'] = Pipeline([\n",
    "        ('vectorizer', TfidfVectorizer(preprocessor=token_preprocessor, \n",
    "                                   stop_words=my_stop_words, min_df = 2)),\n",
    "        ('classifier', ExtraTreesClassifier(n_estimators=500))        \n",
    "    ])\n"
   ]
  },
  {
   "cell_type": "code",
   "execution_count": null,
   "metadata": {},
   "outputs": [],
   "source": [
    "clf_list = [('sgd_huber', pipelines['sgd_huber']), ('etc', pipelines['etc'])]\n",
    "votc = VotingClassifier(estimators= clf_list, voting='soft', weights=[1,1])"
   ]
  },
  {
   "cell_type": "code",
   "execution_count": null,
   "metadata": {},
   "outputs": [],
   "source": [
    "voting_scores['model_2: weights = [1, 1]'] = cross_val_score(votc, X_train, y_train, cv=3)\n",
    "print voting_scores"
   ]
  },
  {
   "cell_type": "code",
   "execution_count": null,
   "metadata": {},
   "outputs": [],
   "source": []
  },
  {
   "cell_type": "markdown",
   "metadata": {},
   "source": [
    "### Prepare submission"
   ]
  },
  {
   "cell_type": "code",
   "execution_count": null,
   "metadata": {},
   "outputs": [],
   "source": [
    "test = pd.read_json('cooking_test.json')\n",
    "X_test = test['ingredients']\n",
    "\n",
    "votc.fit(X, y)\n",
    "prediction = votc.predict(X_test)\n",
    "\n",
    "submission = test.copy()\n",
    "submission['cuisine'] = prediction\n",
    "submission.to_csv('votc_submission.csv', index=False, columns=['id', 'cuisine'])"
   ]
  },
  {
   "cell_type": "markdown",
   "metadata": {},
   "source": [
    "### Some experiments results ..."
   ]
  },
  {
   "cell_type": "markdown",
   "metadata": {},
   "source": [
    "*  (0.78206692048397475, 'SGD, tfidf, phrase_prep: sublinear, loss = modified_hub, maxiter = 900, alpha = 0.00008, mindf=2, maxdf=7000')\n",
    "*  (0.78193360370157983, 'SGD, tfidf, phrase_prep: loss = modified_hub, maxiter = 900, alpha = 0.00008, mindf=2, maxdf=7000')\n",
    "*  (0.78190003137066921, 'SGD, tfidf, tokenprep: sublinear, loss = modified_hub, maxiter = 900, alpha = 0.00008, mindf=2, maxdf=7000')\n",
    "*  (0.7805328097949108, 'SGD, tfidf, phrase_prep: loss = modified_huber, maxiter = 800, alpha = 0.0001, mindf=2, maxdf=7000')\n",
    "*  (0.78049949422039921, 'SGD, tfidf, phrase_prep: loss = modified_huber, maxiter = 1200, alpha = 0.0001, mindf=2, maxdf=7000')\n",
    "*  (0.78033290309091763, 'SGD, tfidf, phrase_prep: loss = modified_huber, maxiter = 800, alpha = 0.00008, mindf=1, maxdf=5000')\n",
    "*  (0.77740201725418501, 'SGD, tfidf, phrase_prep: loss = huber, maxiter = 1200, alpha = 0.0001, mindf=1, maxdf=7000')\n",
    "*  (0.77710219391924829, 'SGD, tfidf, phrase_prep: loss = huber, maxiter = 1200, alpha = 0.00009, mindf=1, maxdf=7000')\n",
    "*  (0.77576873353313769, 'SGD, tfidf, phrase_prep: loss = huber, maxiter = 800, alpha = 0.00009, mindf=2, maxdf=7000')\n",
    "*  (0.77530080302357474, 'SGD, tfidf, phrase_prep: loss = huber, maxiter = 1200, alpha = 0.0002, mindf=1, maxdf=7000')\n",
    "*  (0.77316863931165469, 'SGD, tfidf, phrase_prep: loss = huber, maxiter = 1200, alpha = 0.00005, mindf=1, maxdf=7000')\n",
    "*  (0.7717330964578204, 'SGD, tfidf, phrase_prep with enshlisstopwords: maxiter = 700, alpha = 0.00007, mindf=2, maxdf=7000')\n",
    "*  (0.77139966083169764, 'SGD, tfidf, phrase_prep: maxiter = 800, alpha = 0.00008, mindf=1, maxdf=5000')\n",
    "*  (0.7682668936580781, 'SGD, tfidf: maxiter = 700, alpha = 0.00007, mindf=2, maxdf=7000')\n",
    "*  (0.76806673365451972, 'SGD, tfidf: maxiter = 500, alpha = 0.00007')\n",
    "*  (0.76779996031644382, 'SGD, tfidf: maxiter = 500, alpha = 0.00005')\n",
    "*  (0.76776687142696665, 'SGD, tfidf: maxiter = 700, alpha = 0.00007, mindf=3, maxdf=7000')\n",
    "*  (0.76763343142459428, 'SGD, tfidf: maxiter = 700, alpha = 0.00008')\n",
    "*  (0.76753341808948305, 'SGD, tfidf: maxiter = 500, alpha = 0.00008')\n",
    "*  (0.76676687140918887, 'sgd, tfidf: max iter = 20, min_df = 1, max_df = 5000, default loss')\n",
    "*  (0.76666678696296509, 'SGD, tfidf: maxiter = 700, alpha = 0.00009')\n",
    "*  (0.76643334251437056, 'SGD, tfidf: maxiter = 700, alpha = 0.00003, maxdf=7000')\n",
    "*  (0.76633340029037156, 'SGD, tfidf, token_prep: maxiter = 700, alpha = 0.00007, mindf=2, maxdf=7000')\n",
    "*  (0.76623336028859312, 'SGD, tfidf, token_prep with enshlisstopwords: maxiter = 700, alpha = 0.00007, mindf=2, maxdf=7000')\n",
    "*  (0.76610006250844553, 'sgd, tfidf: max iter = 20, min_df = 1, max_df = 5000, default loss, penalty = l2')\n",
    "*  (0.76596668472829665, 'SGD, tfidf: maxiter = 700, alpha = 0.00003')\n",
    "*  (0.76536668471762992, 'sgd, count: max iter = 20, min_df = 1, max_df = 5000, default loss, penalty = l2')\n",
    "*  (0.76526669804918579, 'sgd, count: max iter = 1000, min_df = 1, max_df = 5000, default loss, penalty = l2')\n",
    "*  (0.76523335138192627, 'SGD, tfidf: maxiter = 500')\n",
    "*  (0.76516688026963342, 'sgd, tfidf: max iter = 20, min_df = 5, max_df = 5000, default loss')\n",
    "*  (0.76483347581926175, 'SGD, tfidf: maxiter = 700, alpha = 0.00007, maxdf=4000')\n",
    "*  (0.76243336910992654, 'SGD, tfidf: maxiter = 700, alpha = 0.00003, maxdf=3000')\n",
    "*  (0.76166686687407759, 'SGD, tfidf: maxiter = 700, alpha = 0.00007, mindf=10, maxdf=7000')\n",
    "*  (0.76023362684859785, 'SGD, tfidf, token_prep with mystopwords: maxiter = 700, alpha = 0.00007, mindf=2, maxdf=7000')\n",
    "*  (0.75836661348207313, 'xgb, tfidf: , est = 1000, min_df = 5, max_df = 5000')\n",
    "*  (0.75683341345481625, 'xgb, tfidf: , est = 500, ')\n",
    "*  (0.75656694233896782, 'SGD, tfidf: maxiter = 500, alpha = 0.00001')\n",
    "*  (0.75439992452266535, 'etc_500est_mindf5_maxdf_5000')\n",
    "*  (0.75396668451496329, 'etc_500est_mindf2_maxdf_5000')\n",
    "*  (0.7538332000681458, 'etc: est = 500, mindf = 10, maxdf = 5000')\n",
    "*  (0.7530333600539264, 'etc_200est_mindf2_maxdf_5000')\n",
    "*  (0.75279983560533048, 'etc_200est_mindf2')\n",
    "*  (0.75229993781866555, 'etc_300est_mindf2_maxdf_5000')\n",
    "*  (0.75223316448414512, 'etc: est = 500, mindf = 10')\n",
    "*  (0.7500663511122907, 'etc_200est')\n",
    "*  (0.7496999288835543, 'etc, tfidf: , est = 1000, min_df = 5, max_df = 5000')\n",
    "*  (0.74963333332681481, 'etc, tfidf: , est = 500, mindf = 10')\n",
    "*  (0.74959988888177587, 'etc, tfidf: , est = 500, ')\n",
    "*  (0.74283337765037116, 'sgd, tfidf: max iter = 20, min_df = 5, max_df = 5000')\n",
    "*  (0.73596675530607558, 'etc, tfidf: est = 300, min_df = 1, max_df = 5000, oob')\n",
    "*  (0.73520005751466766, 'sgd, tfidf: max iter = 20, min_df = 1, max_df = 5000, default loss, penalty = l1')\n",
    "*  (0.73189999967822228, 'xgb, tfidf: , est = 150, ')\n",
    "*  (0.73083334188148164, 'SGD, tfidf: maxiter = 500, alpha = 0.0005')\n",
    "*  (0.72590025877366837, 'SGD, tfidf, phrase_prep: loss = log, maxiter = 1200, alpha = 0.0001, mindf=2, maxdf=7000')\n",
    "*  (0.70643342144770527, 'SGD, tfidf: maxiter = 500, alpha = 0.001')\n",
    "*  (0.70016671022518595, 'etc: est = 500, mindf = 10, maxdf = 1000')\n",
    "*  (0.68506635884562417, 'xgb, tfidf: , est = 50, ')\n",
    "*  (0.53006751164564458, 'SGD, tfidf: maxiter = 500, loss = squared_hinge')\n",
    "*  (0.51813631564101903, 'SGD, tfidf, phrase_prep: loss = squared_hinge, maxiter = 800, alpha = 0.00009, mindf=2, maxdf=7000')"
   ]
  },
  {
   "cell_type": "code",
   "execution_count": null,
   "metadata": {},
   "outputs": [],
   "source": []
  }
 ],
 "metadata": {
  "kernelspec": {
   "display_name": "Python 3",
   "language": "python",
   "name": "python3"
  },
  "language_info": {
   "codemirror_mode": {
    "name": "ipython",
    "version": 2
   },
   "file_extension": ".py",
   "mimetype": "text/x-python",
   "name": "python",
   "nbconvert_exporter": "python",
   "pygments_lexer": "ipython2",
   "version": "2.7.13"
  }
 },
 "nbformat": 4,
 "nbformat_minor": 1
}
